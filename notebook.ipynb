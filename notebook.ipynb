{
 "cells": [
  {
   "cell_type": "markdown",
   "metadata": {},
   "source": [
    "# 决策树实验报告"
   ]
  },
  {
   "cell_type": "code",
   "execution_count": 1,
   "metadata": {},
   "outputs": [],
   "source": [
    "import numpy as np\n",
    "import pandas as pd\n",
    "from sklearn.model_selection import train_test_split, cross_val_score, GridSearchCV\n",
    "import sklearn.tree as sktree\n",
    "import matplotlib as mpl\n",
    "import matplotlib.pyplot as plt\n",
    "import seaborn as sns\n",
    "import graphviz\n",
    "\n",
    "import warnings\n",
    "warnings.filterwarnings('ignore')\n",
    "\n",
    "from preprocess import preprocess\n",
    "from tree import DecisionTree"
   ]
  },
  {
   "cell_type": "markdown",
   "metadata": {},
   "source": [
    "以下对Scikit-learn的CART算法，自己按书写的CART算法和C4.5方法，以及数个剪枝方法进行了实验。\n",
    "\n",
    "自己使用的方法的详细说明见 [this post](https://usualwitch.now.sh/posts/decision-tree/)。"
   ]
  },
  {
   "cell_type": "markdown",
   "metadata": {},
   "source": [
    "## 实验部分"
   ]
  },
  {
   "cell_type": "markdown",
   "metadata": {
    "toc-hr-collapsed": true,
    "toc-nb-collapsed": true
   },
   "source": [
    "### 比较CART和C4.5算法\n",
    "\n",
    "数据集：[Mushroom Data Set](https://archive.ics.uci.edu/ml/datasets/Mushroom)"
   ]
  },
  {
   "cell_type": "code",
   "execution_count": 2,
   "metadata": {},
   "outputs": [
    {
     "data": {
      "text/html": [
       "<div>\n",
       "<style scoped>\n",
       "    .dataframe tbody tr th:only-of-type {\n",
       "        vertical-align: middle;\n",
       "    }\n",
       "\n",
       "    .dataframe tbody tr th {\n",
       "        vertical-align: top;\n",
       "    }\n",
       "\n",
       "    .dataframe thead th {\n",
       "        text-align: right;\n",
       "    }\n",
       "</style>\n",
       "<table border=\"1\" class=\"dataframe\">\n",
       "  <thead>\n",
       "    <tr style=\"text-align: right;\">\n",
       "      <th></th>\n",
       "      <th>class</th>\n",
       "      <th>cap-shape</th>\n",
       "      <th>cap-surface</th>\n",
       "      <th>cap-color</th>\n",
       "      <th>bruises</th>\n",
       "      <th>odor</th>\n",
       "      <th>gill-attachment</th>\n",
       "      <th>gill-spacing</th>\n",
       "      <th>gill-size</th>\n",
       "      <th>gill-color</th>\n",
       "      <th>stalk-shape</th>\n",
       "      <th>stalk-root</th>\n",
       "      <th>stalk-surface-above-ring</th>\n",
       "      <th>stalk-surface-below-ring</th>\n",
       "      <th>stalk-color-above-ring</th>\n",
       "      <th>stalk-color-below-ring</th>\n",
       "      <th>veil-type</th>\n",
       "      <th>veil-color</th>\n",
       "      <th>ring-number</th>\n",
       "      <th>ring-type</th>\n",
       "      <th>spore-print-color</th>\n",
       "      <th>population</th>\n",
       "      <th>habitat</th>\n",
       "    </tr>\n",
       "  </thead>\n",
       "  <tbody>\n",
       "    <tr>\n",
       "      <th>0</th>\n",
       "      <td>p</td>\n",
       "      <td>x</td>\n",
       "      <td>s</td>\n",
       "      <td>n</td>\n",
       "      <td>t</td>\n",
       "      <td>p</td>\n",
       "      <td>f</td>\n",
       "      <td>c</td>\n",
       "      <td>n</td>\n",
       "      <td>k</td>\n",
       "      <td>e</td>\n",
       "      <td>e</td>\n",
       "      <td>s</td>\n",
       "      <td>s</td>\n",
       "      <td>w</td>\n",
       "      <td>w</td>\n",
       "      <td>p</td>\n",
       "      <td>w</td>\n",
       "      <td>o</td>\n",
       "      <td>p</td>\n",
       "      <td>k</td>\n",
       "      <td>s</td>\n",
       "      <td>u</td>\n",
       "    </tr>\n",
       "    <tr>\n",
       "      <th>1</th>\n",
       "      <td>e</td>\n",
       "      <td>x</td>\n",
       "      <td>s</td>\n",
       "      <td>y</td>\n",
       "      <td>t</td>\n",
       "      <td>a</td>\n",
       "      <td>f</td>\n",
       "      <td>c</td>\n",
       "      <td>b</td>\n",
       "      <td>k</td>\n",
       "      <td>e</td>\n",
       "      <td>c</td>\n",
       "      <td>s</td>\n",
       "      <td>s</td>\n",
       "      <td>w</td>\n",
       "      <td>w</td>\n",
       "      <td>p</td>\n",
       "      <td>w</td>\n",
       "      <td>o</td>\n",
       "      <td>p</td>\n",
       "      <td>n</td>\n",
       "      <td>n</td>\n",
       "      <td>g</td>\n",
       "    </tr>\n",
       "    <tr>\n",
       "      <th>2</th>\n",
       "      <td>e</td>\n",
       "      <td>b</td>\n",
       "      <td>s</td>\n",
       "      <td>w</td>\n",
       "      <td>t</td>\n",
       "      <td>l</td>\n",
       "      <td>f</td>\n",
       "      <td>c</td>\n",
       "      <td>b</td>\n",
       "      <td>n</td>\n",
       "      <td>e</td>\n",
       "      <td>c</td>\n",
       "      <td>s</td>\n",
       "      <td>s</td>\n",
       "      <td>w</td>\n",
       "      <td>w</td>\n",
       "      <td>p</td>\n",
       "      <td>w</td>\n",
       "      <td>o</td>\n",
       "      <td>p</td>\n",
       "      <td>n</td>\n",
       "      <td>n</td>\n",
       "      <td>m</td>\n",
       "    </tr>\n",
       "    <tr>\n",
       "      <th>3</th>\n",
       "      <td>p</td>\n",
       "      <td>x</td>\n",
       "      <td>y</td>\n",
       "      <td>w</td>\n",
       "      <td>t</td>\n",
       "      <td>p</td>\n",
       "      <td>f</td>\n",
       "      <td>c</td>\n",
       "      <td>n</td>\n",
       "      <td>n</td>\n",
       "      <td>e</td>\n",
       "      <td>e</td>\n",
       "      <td>s</td>\n",
       "      <td>s</td>\n",
       "      <td>w</td>\n",
       "      <td>w</td>\n",
       "      <td>p</td>\n",
       "      <td>w</td>\n",
       "      <td>o</td>\n",
       "      <td>p</td>\n",
       "      <td>k</td>\n",
       "      <td>s</td>\n",
       "      <td>u</td>\n",
       "    </tr>\n",
       "    <tr>\n",
       "      <th>4</th>\n",
       "      <td>e</td>\n",
       "      <td>x</td>\n",
       "      <td>s</td>\n",
       "      <td>g</td>\n",
       "      <td>f</td>\n",
       "      <td>n</td>\n",
       "      <td>f</td>\n",
       "      <td>w</td>\n",
       "      <td>b</td>\n",
       "      <td>k</td>\n",
       "      <td>t</td>\n",
       "      <td>e</td>\n",
       "      <td>s</td>\n",
       "      <td>s</td>\n",
       "      <td>w</td>\n",
       "      <td>w</td>\n",
       "      <td>p</td>\n",
       "      <td>w</td>\n",
       "      <td>o</td>\n",
       "      <td>e</td>\n",
       "      <td>n</td>\n",
       "      <td>a</td>\n",
       "      <td>g</td>\n",
       "    </tr>\n",
       "  </tbody>\n",
       "</table>\n",
       "</div>"
      ],
      "text/plain": [
       "  class cap-shape cap-surface cap-color bruises odor gill-attachment  \\\n",
       "0     p         x           s         n       t    p               f   \n",
       "1     e         x           s         y       t    a               f   \n",
       "2     e         b           s         w       t    l               f   \n",
       "3     p         x           y         w       t    p               f   \n",
       "4     e         x           s         g       f    n               f   \n",
       "\n",
       "  gill-spacing gill-size gill-color stalk-shape stalk-root  \\\n",
       "0            c         n          k           e          e   \n",
       "1            c         b          k           e          c   \n",
       "2            c         b          n           e          c   \n",
       "3            c         n          n           e          e   \n",
       "4            w         b          k           t          e   \n",
       "\n",
       "  stalk-surface-above-ring stalk-surface-below-ring stalk-color-above-ring  \\\n",
       "0                        s                        s                      w   \n",
       "1                        s                        s                      w   \n",
       "2                        s                        s                      w   \n",
       "3                        s                        s                      w   \n",
       "4                        s                        s                      w   \n",
       "\n",
       "  stalk-color-below-ring veil-type veil-color ring-number ring-type  \\\n",
       "0                      w         p          w           o         p   \n",
       "1                      w         p          w           o         p   \n",
       "2                      w         p          w           o         p   \n",
       "3                      w         p          w           o         p   \n",
       "4                      w         p          w           o         e   \n",
       "\n",
       "  spore-print-color population habitat  \n",
       "0                 k          s       u  \n",
       "1                 n          n       g  \n",
       "2                 n          n       m  \n",
       "3                 k          s       u  \n",
       "4                 n          a       g  "
      ]
     },
     "execution_count": 2,
     "metadata": {},
     "output_type": "execute_result"
    }
   ],
   "source": [
    "df = pd.read_csv('data/mushrooms.csv')\n",
    "df.head()"
   ]
  },
  {
   "cell_type": "markdown",
   "metadata": {},
   "source": [
    "分割训练集和测试集。"
   ]
  },
  {
   "cell_type": "markdown",
   "metadata": {},
   "source": [
    "#### Scikit-learn CART\n",
    "\n",
    "+ 按照Scikit-learn中的方法，将X和y分开\n",
    "+ 将x和y中的categorical variable利用pandas的get_dummies函数转化为dummy-code"
   ]
  },
  {
   "cell_type": "code",
   "execution_count": 3,
   "metadata": {},
   "outputs": [],
   "source": [
    "y = df['class']\n",
    "X = df.drop(['class'], axis=1)\n",
    "X = pd.get_dummies(X)\n",
    "y = pd.get_dummies(y)"
   ]
  },
  {
   "cell_type": "code",
   "execution_count": 4,
   "metadata": {},
   "outputs": [],
   "source": [
    "X_train, X_test, y_train, y_test = train_test_split(X, y, test_size=0.2, random_state=2)"
   ]
  },
  {
   "cell_type": "code",
   "execution_count": 5,
   "metadata": {},
   "outputs": [],
   "source": [
    "parameters = {\n",
    "    'criterion': ('gini', 'entropy'),\n",
    "    'min_samples_split': [2, 3, 4, 5],\n",
    "    'max_depth': [9, 10, 11, 12],\n",
    "    'class_weight': ('balanced', None),\n",
    "    'presort': (False, True)\n",
    "}"
   ]
  },
  {
   "cell_type": "code",
   "execution_count": 6,
   "metadata": {},
   "outputs": [
    {
     "data": {
      "text/plain": [
       "GridSearchCV(cv=None, error_score=nan,\n",
       "             estimator=DecisionTreeClassifier(ccp_alpha=0.0, class_weight=None,\n",
       "                                              criterion='gini', max_depth=None,\n",
       "                                              max_features=None,\n",
       "                                              max_leaf_nodes=None,\n",
       "                                              min_impurity_decrease=0.0,\n",
       "                                              min_impurity_split=None,\n",
       "                                              min_samples_leaf=1,\n",
       "                                              min_samples_split=2,\n",
       "                                              min_weight_fraction_leaf=0.0,\n",
       "                                              presort='deprecated',\n",
       "                                              random_state=None,\n",
       "                                              splitter='best'),\n",
       "             iid='deprecated', n_jobs=None,\n",
       "             param_grid={'class_weight': ('balanced', None),\n",
       "                         'criterion': ('gini', 'entropy'),\n",
       "                         'max_depth': [9, 10, 11, 12],\n",
       "                         'min_samples_split': [2, 3, 4, 5],\n",
       "                         'presort': (False, True)},\n",
       "             pre_dispatch='2*n_jobs', refit=True, return_train_score=False,\n",
       "             scoring=None, verbose=0)"
      ]
     },
     "execution_count": 6,
     "metadata": {},
     "output_type": "execute_result"
    },
    {
     "data": {
      "text/plain": [
       "DecisionTreeClassifier(ccp_alpha=0.0, class_weight='balanced', criterion='gini',\n",
       "                       max_depth=9, max_features=None, max_leaf_nodes=None,\n",
       "                       min_impurity_decrease=0.0, min_impurity_split=None,\n",
       "                       min_samples_leaf=1, min_samples_split=2,\n",
       "                       min_weight_fraction_leaf=0.0, presort=False,\n",
       "                       random_state=None, splitter='best')"
      ]
     },
     "execution_count": 6,
     "metadata": {},
     "output_type": "execute_result"
    }
   ],
   "source": [
    "tr = sktree.DecisionTreeClassifier()\n",
    "gsearch = GridSearchCV(tr, parameters)\n",
    "gsearch.fit(X_train, y_train)\n",
    "model = gsearch.best_estimator_\n",
    "model"
   ]
  },
  {
   "cell_type": "markdown",
   "metadata": {},
   "source": [
    "CART通过grid search建立的决策树在测试集上准确率是100%。"
   ]
  },
  {
   "cell_type": "code",
   "execution_count": 7,
   "metadata": {},
   "outputs": [
    {
     "data": {
      "text/plain": [
       "1.0"
      ]
     },
     "execution_count": 7,
     "metadata": {},
     "output_type": "execute_result"
    }
   ],
   "source": [
    "score = model.score(X_test, y_test)\n",
    "score"
   ]
  },
  {
   "cell_type": "code",
   "execution_count": 8,
   "metadata": {},
   "outputs": [
    {
     "data": {
      "image/svg+xml": [
       "<?xml version=\"1.0\" encoding=\"UTF-8\" standalone=\"no\"?>\n",
       "<!DOCTYPE svg PUBLIC \"-//W3C//DTD SVG 1.1//EN\"\n",
       " \"http://www.w3.org/Graphics/SVG/1.1/DTD/svg11.dtd\">\n",
       "<!-- Generated by graphviz version 2.43.0 (0)\n",
       " -->\n",
       "<!-- Title: Tree Pages: 1 -->\n",
       "<svg width=\"1397pt\" height=\"870pt\"\n",
       " viewBox=\"0.00 0.00 1396.94 870.00\" xmlns=\"http://www.w3.org/2000/svg\" xmlns:xlink=\"http://www.w3.org/1999/xlink\">\n",
       "<g id=\"graph0\" class=\"graph\" transform=\"scale(1 1) rotate(0) translate(4 866)\">\n",
       "<title>Tree</title>\n",
       "<polygon fill=\"white\" stroke=\"transparent\" points=\"-4,4 -4,-866 1392.94,-866 1392.94,4 -4,4\"/>\n",
       "<!-- 0 -->\n",
       "<g id=\"node1\" class=\"node\">\n",
       "<title>0</title>\n",
       "<path fill=\"#ffffff\" stroke=\"black\" d=\"M906.02,-862C906.02,-862 728.71,-862 728.71,-862 722.71,-862 716.71,-856 716.71,-850 716.71,-850 716.71,-796 716.71,-796 716.71,-790 722.71,-784 728.71,-784 728.71,-784 906.02,-784 906.02,-784 912.02,-784 918.02,-790 918.02,-796 918.02,-796 918.02,-850 918.02,-850 918.02,-856 912.02,-862 906.02,-862\"/>\n",
       "<text text-anchor=\"start\" x=\"778.1\" y=\"-846.8\" font-family=\"Helvetica,sans-Serif\" font-size=\"14.00\">odor_n ≤ 0.5</text>\n",
       "<text text-anchor=\"start\" x=\"788.76\" y=\"-832.8\" font-family=\"Helvetica,sans-Serif\" font-size=\"14.00\">gini = 0.5</text>\n",
       "<text text-anchor=\"start\" x=\"767.75\" y=\"-818.8\" font-family=\"Helvetica,sans-Serif\" font-size=\"14.00\">samples = 6499</text>\n",
       "<text text-anchor=\"start\" x=\"724.53\" y=\"-804.8\" font-family=\"Helvetica,sans-Serif\" font-size=\"14.00\">value = [[3351.079, 3153.898]</text>\n",
       "<text text-anchor=\"start\" x=\"749.25\" y=\"-790.8\" font-family=\"Helvetica,sans-Serif\" font-size=\"14.00\">[3153.898, 3351.079]]</text>\n",
       "</g>\n",
       "<!-- 1 -->\n",
       "<g id=\"node2\" class=\"node\">\n",
       "<title>1</title>\n",
       "<path fill=\"#f3c4a3\" stroke=\"black\" d=\"M786.23,-748C786.23,-748 616.49,-748 616.49,-748 610.49,-748 604.49,-742 604.49,-736 604.49,-736 604.49,-682 604.49,-682 604.49,-676 610.49,-670 616.49,-670 616.49,-670 786.23,-670 786.23,-670 792.23,-670 798.23,-676 798.23,-682 798.23,-682 798.23,-736 798.23,-736 798.23,-742 792.23,-748 786.23,-748\"/>\n",
       "<text text-anchor=\"start\" x=\"647.72\" y=\"-732.8\" font-family=\"Helvetica,sans-Serif\" font-size=\"14.00\">stalk&#45;root_c ≤ 0.5</text>\n",
       "<text text-anchor=\"start\" x=\"664.97\" y=\"-718.8\" font-family=\"Helvetica,sans-Serif\" font-size=\"14.00\">gini = 0.267</text>\n",
       "<text text-anchor=\"start\" x=\"651.75\" y=\"-704.8\" font-family=\"Helvetica,sans-Serif\" font-size=\"14.00\">samples = 3702</text>\n",
       "<text text-anchor=\"start\" x=\"612.43\" y=\"-690.8\" font-family=\"Helvetica,sans-Serif\" font-size=\"14.00\">value = [[3244.729, 613.258]</text>\n",
       "<text text-anchor=\"start\" x=\"637.14\" y=\"-676.8\" font-family=\"Helvetica,sans-Serif\" font-size=\"14.00\">[613.258, 3244.729]]</text>\n",
       "</g>\n",
       "<!-- 0&#45;&gt;1 -->\n",
       "<g id=\"edge1\" class=\"edge\">\n",
       "<title>0&#45;&gt;1</title>\n",
       "<path fill=\"none\" stroke=\"black\" d=\"M777.77,-783.77C768.25,-774.58 757.99,-764.68 748.18,-755.2\"/>\n",
       "<polygon fill=\"black\" stroke=\"black\" points=\"750.41,-752.49 740.78,-748.06 745.54,-757.52 750.41,-752.49\"/>\n",
       "<text text-anchor=\"middle\" x=\"741.22\" y=\"-768.85\" font-family=\"Helvetica,sans-Serif\" font-size=\"14.00\">True</text>\n",
       "</g>\n",
       "<!-- 12 -->\n",
       "<g id=\"node13\" class=\"node\">\n",
       "<title>12</title>\n",
       "<path fill=\"#e99458\" stroke=\"black\" d=\"M1044.66,-748C1044.66,-748 890.06,-748 890.06,-748 884.06,-748 878.06,-742 878.06,-736 878.06,-736 878.06,-682 878.06,-682 878.06,-676 884.06,-670 890.06,-670 890.06,-670 1044.66,-670 1044.66,-670 1050.66,-670 1056.66,-676 1056.66,-682 1056.66,-682 1056.66,-736 1056.66,-736 1056.66,-742 1050.66,-748 1044.66,-748\"/>\n",
       "<text text-anchor=\"start\" x=\"892.71\" y=\"-732.8\" font-family=\"Helvetica,sans-Serif\" font-size=\"14.00\">spore&#45;print&#45;color_r ≤ 0.5</text>\n",
       "<text text-anchor=\"start\" x=\"930.97\" y=\"-718.8\" font-family=\"Helvetica,sans-Serif\" font-size=\"14.00\">gini = 0.077</text>\n",
       "<text text-anchor=\"start\" x=\"917.75\" y=\"-704.8\" font-family=\"Helvetica,sans-Serif\" font-size=\"14.00\">samples = 2797</text>\n",
       "<text text-anchor=\"start\" x=\"886.21\" y=\"-690.8\" font-family=\"Helvetica,sans-Serif\" font-size=\"14.00\">value = [[106.35, 2540.64]</text>\n",
       "<text text-anchor=\"start\" x=\"910.93\" y=\"-676.8\" font-family=\"Helvetica,sans-Serif\" font-size=\"14.00\">[2540.64, 106.35]]</text>\n",
       "</g>\n",
       "<!-- 0&#45;&gt;12 -->\n",
       "<g id=\"edge12\" class=\"edge\">\n",
       "<title>0&#45;&gt;12</title>\n",
       "<path fill=\"none\" stroke=\"black\" d=\"M868.57,-783.77C881.36,-774.22 895.18,-763.9 908.32,-754.09\"/>\n",
       "<polygon fill=\"black\" stroke=\"black\" points=\"910.47,-756.85 916.39,-748.06 906.29,-751.24 910.47,-756.85\"/>\n",
       "<text text-anchor=\"middle\" x=\"912.8\" y=\"-768.6\" font-family=\"Helvetica,sans-Serif\" font-size=\"14.00\">False</text>\n",
       "</g>\n",
       "<!-- 2 -->\n",
       "<g id=\"node3\" class=\"node\">\n",
       "<title>2</title>\n",
       "<path fill=\"#eb9f69\" stroke=\"black\" d=\"M529.23,-634C529.23,-634 359.49,-634 359.49,-634 353.49,-634 347.49,-628 347.49,-622 347.49,-622 347.49,-568 347.49,-568 347.49,-562 353.49,-556 359.49,-556 359.49,-556 529.23,-556 529.23,-556 535.23,-556 541.23,-562 541.23,-568 541.23,-568 541.23,-622 541.23,-622 541.23,-628 535.23,-634 529.23,-634\"/>\n",
       "<text text-anchor=\"start\" x=\"391.89\" y=\"-618.8\" font-family=\"Helvetica,sans-Serif\" font-size=\"14.00\">stalk&#45;root_r ≤ 0.5</text>\n",
       "<text text-anchor=\"start\" x=\"411.87\" y=\"-604.8\" font-family=\"Helvetica,sans-Serif\" font-size=\"14.00\">gini = 0.12</text>\n",
       "<text text-anchor=\"start\" x=\"394.75\" y=\"-590.8\" font-family=\"Helvetica,sans-Serif\" font-size=\"14.00\">samples = 3256</text>\n",
       "<text text-anchor=\"start\" x=\"355.43\" y=\"-576.8\" font-family=\"Helvetica,sans-Serif\" font-size=\"14.00\">value = [[3213.888, 220.434]</text>\n",
       "<text text-anchor=\"start\" x=\"380.14\" y=\"-562.8\" font-family=\"Helvetica,sans-Serif\" font-size=\"14.00\">[220.434, 3213.888]]</text>\n",
       "</g>\n",
       "<!-- 1&#45;&gt;2 -->\n",
       "<g id=\"edge2\" class=\"edge\">\n",
       "<title>1&#45;&gt;2</title>\n",
       "<path fill=\"none\" stroke=\"black\" d=\"M614,-669.93C590.62,-659.74 565.2,-648.66 541.34,-638.26\"/>\n",
       "<polygon fill=\"black\" stroke=\"black\" points=\"542.49,-634.95 531.93,-634.16 539.69,-641.36 542.49,-634.95\"/>\n",
       "</g>\n",
       "<!-- 9 -->\n",
       "<g id=\"node10\" class=\"node\">\n",
       "<title>9</title>\n",
       "<path fill=\"#eca36f\" stroke=\"black\" d=\"M796.68,-634C796.68,-634 606.05,-634 606.05,-634 600.05,-634 594.05,-628 594.05,-622 594.05,-622 594.05,-568 594.05,-568 594.05,-562 600.05,-556 606.05,-556 606.05,-556 796.68,-556 796.68,-556 802.68,-556 808.68,-562 808.68,-568 808.68,-568 808.68,-622 808.68,-622 808.68,-628 802.68,-634 796.68,-634\"/>\n",
       "<text text-anchor=\"start\" x=\"602.2\" y=\"-618.8\" font-family=\"Helvetica,sans-Serif\" font-size=\"14.00\">stalk&#45;surface&#45;below&#45;ring_y ≤ 0.5</text>\n",
       "<text text-anchor=\"start\" x=\"664.97\" y=\"-604.8\" font-family=\"Helvetica,sans-Serif\" font-size=\"14.00\">gini = 0.135</text>\n",
       "<text text-anchor=\"start\" x=\"655.64\" y=\"-590.8\" font-family=\"Helvetica,sans-Serif\" font-size=\"14.00\">samples = 446</text>\n",
       "<text text-anchor=\"start\" x=\"620.21\" y=\"-576.8\" font-family=\"Helvetica,sans-Serif\" font-size=\"14.00\">value = [[30.841, 392.824]</text>\n",
       "<text text-anchor=\"start\" x=\"644.93\" y=\"-562.8\" font-family=\"Helvetica,sans-Serif\" font-size=\"14.00\">[392.824, 30.841]]</text>\n",
       "</g>\n",
       "<!-- 1&#45;&gt;9 -->\n",
       "<g id=\"edge9\" class=\"edge\">\n",
       "<title>1&#45;&gt;9</title>\n",
       "<path fill=\"none\" stroke=\"black\" d=\"M701.36,-669.77C701.36,-661.57 701.36,-652.8 701.36,-644.28\"/>\n",
       "<polygon fill=\"black\" stroke=\"black\" points=\"704.86,-644.06 701.36,-634.06 697.86,-644.06 704.86,-644.06\"/>\n",
       "</g>\n",
       "<!-- 3 -->\n",
       "<g id=\"node4\" class=\"node\">\n",
       "<title>3</title>\n",
       "<path fill=\"#e78c4b\" stroke=\"black\" d=\"M336.66,-520C336.66,-520 182.06,-520 182.06,-520 176.06,-520 170.06,-514 170.06,-508 170.06,-508 170.06,-454 170.06,-454 170.06,-448 176.06,-442 182.06,-442 182.06,-442 336.66,-442 336.66,-442 342.66,-442 348.66,-448 348.66,-454 348.66,-454 348.66,-508 348.66,-508 348.66,-514 342.66,-520 336.66,-520\"/>\n",
       "<text text-anchor=\"start\" x=\"220.1\" y=\"-504.8\" font-family=\"Helvetica,sans-Serif\" font-size=\"14.00\">odor_a ≤ 0.5</text>\n",
       "<text text-anchor=\"start\" x=\"222.97\" y=\"-490.8\" font-family=\"Helvetica,sans-Serif\" font-size=\"14.00\">gini = 0.044</text>\n",
       "<text text-anchor=\"start\" x=\"209.75\" y=\"-476.8\" font-family=\"Helvetica,sans-Serif\" font-size=\"14.00\">samples = 3101</text>\n",
       "<text text-anchor=\"start\" x=\"178.21\" y=\"-462.8\" font-family=\"Helvetica,sans-Serif\" font-size=\"14.00\">value = [[3213.888, 74.42]</text>\n",
       "<text text-anchor=\"start\" x=\"202.93\" y=\"-448.8\" font-family=\"Helvetica,sans-Serif\" font-size=\"14.00\">[74.42, 3213.888]]</text>\n",
       "</g>\n",
       "<!-- 2&#45;&gt;3 -->\n",
       "<g id=\"edge3\" class=\"edge\">\n",
       "<title>2&#45;&gt;3</title>\n",
       "<path fill=\"none\" stroke=\"black\" d=\"M381.47,-555.93C365.24,-546.1 347.64,-535.45 331,-525.37\"/>\n",
       "<polygon fill=\"black\" stroke=\"black\" points=\"332.76,-522.34 322.39,-520.16 329.14,-528.33 332.76,-522.34\"/>\n",
       "</g>\n",
       "<!-- 8 -->\n",
       "<g id=\"node9\" class=\"node\">\n",
       "<title>8</title>\n",
       "<path fill=\"#e58139\" stroke=\"black\" d=\"M509.8,-513C509.8,-513 378.92,-513 378.92,-513 372.92,-513 366.92,-507 366.92,-501 366.92,-501 366.92,-461 366.92,-461 366.92,-455 372.92,-449 378.92,-449 378.92,-449 509.8,-449 509.8,-449 515.8,-449 521.8,-455 521.8,-461 521.8,-461 521.8,-501 521.8,-501 521.8,-507 515.8,-513 509.8,-513\"/>\n",
       "<text text-anchor=\"start\" x=\"413.43\" y=\"-497.8\" font-family=\"Helvetica,sans-Serif\" font-size=\"14.00\">gini = &#45;0.0</text>\n",
       "<text text-anchor=\"start\" x=\"398.64\" y=\"-483.8\" font-family=\"Helvetica,sans-Serif\" font-size=\"14.00\">samples = 155</text>\n",
       "<text text-anchor=\"start\" x=\"374.89\" y=\"-469.8\" font-family=\"Helvetica,sans-Serif\" font-size=\"14.00\">value = [[0.0, 146.014]</text>\n",
       "<text text-anchor=\"start\" x=\"399.6\" y=\"-455.8\" font-family=\"Helvetica,sans-Serif\" font-size=\"14.00\">[146.014, 0.0]]</text>\n",
       "</g>\n",
       "<!-- 2&#45;&gt;8 -->\n",
       "<g id=\"edge8\" class=\"edge\">\n",
       "<title>2&#45;&gt;8</title>\n",
       "<path fill=\"none\" stroke=\"black\" d=\"M444.36,-555.77C444.36,-545.31 444.36,-533.94 444.36,-523.32\"/>\n",
       "<polygon fill=\"black\" stroke=\"black\" points=\"447.86,-523.01 444.36,-513.01 440.86,-523.01 447.86,-523.01\"/>\n",
       "</g>\n",
       "<!-- 4 -->\n",
       "<g id=\"node5\" class=\"node\">\n",
       "<title>4</title>\n",
       "<path fill=\"#e68641\" stroke=\"black\" d=\"M248.45,-406C248.45,-406 86.28,-406 86.28,-406 80.28,-406 74.28,-400 74.28,-394 74.28,-394 74.28,-340 74.28,-340 74.28,-334 80.28,-328 86.28,-328 86.28,-328 248.45,-328 248.45,-328 254.45,-328 260.45,-334 260.45,-340 260.45,-340 260.45,-394 260.45,-394 260.45,-400 254.45,-406 248.45,-406\"/>\n",
       "<text text-anchor=\"start\" x=\"130.44\" y=\"-390.8\" font-family=\"Helvetica,sans-Serif\" font-size=\"14.00\">odor_l ≤ 0.5</text>\n",
       "<text text-anchor=\"start\" x=\"130.97\" y=\"-376.8\" font-family=\"Helvetica,sans-Serif\" font-size=\"14.00\">gini = 0.021</text>\n",
       "<text text-anchor=\"start\" x=\"117.75\" y=\"-362.8\" font-family=\"Helvetica,sans-Serif\" font-size=\"14.00\">samples = 3059</text>\n",
       "<text text-anchor=\"start\" x=\"82.32\" y=\"-348.8\" font-family=\"Helvetica,sans-Serif\" font-size=\"14.00\">value = [[3213.888, 34.855]</text>\n",
       "<text text-anchor=\"start\" x=\"107.03\" y=\"-334.8\" font-family=\"Helvetica,sans-Serif\" font-size=\"14.00\">[34.855, 3213.888]]</text>\n",
       "</g>\n",
       "<!-- 3&#45;&gt;4 -->\n",
       "<g id=\"edge4\" class=\"edge\">\n",
       "<title>3&#45;&gt;4</title>\n",
       "<path fill=\"none\" stroke=\"black\" d=\"M227.96,-441.77C220.63,-432.85 212.75,-423.26 205.18,-414.04\"/>\n",
       "<polygon fill=\"black\" stroke=\"black\" points=\"207.68,-411.56 198.63,-406.06 202.27,-416.01 207.68,-411.56\"/>\n",
       "</g>\n",
       "<!-- 7 -->\n",
       "<g id=\"node8\" class=\"node\">\n",
       "<title>7</title>\n",
       "<path fill=\"#e58139\" stroke=\"black\" d=\"M414.02,-399C414.02,-399 290.71,-399 290.71,-399 284.71,-399 278.71,-393 278.71,-387 278.71,-387 278.71,-347 278.71,-347 278.71,-341 284.71,-335 290.71,-335 290.71,-335 414.02,-335 414.02,-335 420.02,-335 426.02,-341 426.02,-347 426.02,-347 426.02,-387 426.02,-387 426.02,-393 420.02,-399 414.02,-399\"/>\n",
       "<text text-anchor=\"start\" x=\"321.43\" y=\"-383.8\" font-family=\"Helvetica,sans-Serif\" font-size=\"14.00\">gini = &#45;0.0</text>\n",
       "<text text-anchor=\"start\" x=\"310.53\" y=\"-369.8\" font-family=\"Helvetica,sans-Serif\" font-size=\"14.00\">samples = 42</text>\n",
       "<text text-anchor=\"start\" x=\"286.79\" y=\"-355.8\" font-family=\"Helvetica,sans-Serif\" font-size=\"14.00\">value = [[0.0, 39.565]</text>\n",
       "<text text-anchor=\"start\" x=\"311.5\" y=\"-341.8\" font-family=\"Helvetica,sans-Serif\" font-size=\"14.00\">[39.565, 0.0]]</text>\n",
       "</g>\n",
       "<!-- 3&#45;&gt;7 -->\n",
       "<g id=\"edge7\" class=\"edge\">\n",
       "<title>3&#45;&gt;7</title>\n",
       "<path fill=\"none\" stroke=\"black\" d=\"M291.11,-441.77C300.42,-430.55 310.62,-418.27 319.98,-407\"/>\n",
       "<polygon fill=\"black\" stroke=\"black\" points=\"322.92,-408.94 326.61,-399.01 317.53,-404.47 322.92,-408.94\"/>\n",
       "</g>\n",
       "<!-- 5 -->\n",
       "<g id=\"node6\" class=\"node\">\n",
       "<title>5</title>\n",
       "<path fill=\"#e58139\" stroke=\"black\" d=\"M150.59,-285C150.59,-285 12.14,-285 12.14,-285 6.14,-285 0.14,-279 0.14,-273 0.14,-273 0.14,-233 0.14,-233 0.14,-227 6.14,-221 12.14,-221 12.14,-221 150.59,-221 150.59,-221 156.59,-221 162.59,-227 162.59,-233 162.59,-233 162.59,-273 162.59,-273 162.59,-279 156.59,-285 150.59,-285\"/>\n",
       "<text text-anchor=\"start\" x=\"52.76\" y=\"-269.8\" font-family=\"Helvetica,sans-Serif\" font-size=\"14.00\">gini = 0.0</text>\n",
       "<text text-anchor=\"start\" x=\"31.75\" y=\"-255.8\" font-family=\"Helvetica,sans-Serif\" font-size=\"14.00\">samples = 3022</text>\n",
       "<text text-anchor=\"start\" x=\"8\" y=\"-241.8\" font-family=\"Helvetica,sans-Serif\" font-size=\"14.00\">value = [[3213.888, 0.0]</text>\n",
       "<text text-anchor=\"start\" x=\"32.71\" y=\"-227.8\" font-family=\"Helvetica,sans-Serif\" font-size=\"14.00\">[0.0, 3213.888]]</text>\n",
       "</g>\n",
       "<!-- 4&#45;&gt;5 -->\n",
       "<g id=\"edge5\" class=\"edge\">\n",
       "<title>4&#45;&gt;5</title>\n",
       "<path fill=\"none\" stroke=\"black\" d=\"M138.01,-327.77C129.39,-316.55 119.96,-304.27 111.31,-293\"/>\n",
       "<polygon fill=\"black\" stroke=\"black\" points=\"114.04,-290.81 105.17,-285.01 108.49,-295.07 114.04,-290.81\"/>\n",
       "</g>\n",
       "<!-- 6 -->\n",
       "<g id=\"node7\" class=\"node\">\n",
       "<title>6</title>\n",
       "<path fill=\"#e58139\" stroke=\"black\" d=\"M316.02,-285C316.02,-285 192.71,-285 192.71,-285 186.71,-285 180.71,-279 180.71,-273 180.71,-273 180.71,-233 180.71,-233 180.71,-227 186.71,-221 192.71,-221 192.71,-221 316.02,-221 316.02,-221 322.02,-221 328.02,-227 328.02,-233 328.02,-233 328.02,-273 328.02,-273 328.02,-279 322.02,-285 316.02,-285\"/>\n",
       "<text text-anchor=\"start\" x=\"223.43\" y=\"-269.8\" font-family=\"Helvetica,sans-Serif\" font-size=\"14.00\">gini = &#45;0.0</text>\n",
       "<text text-anchor=\"start\" x=\"212.53\" y=\"-255.8\" font-family=\"Helvetica,sans-Serif\" font-size=\"14.00\">samples = 37</text>\n",
       "<text text-anchor=\"start\" x=\"188.79\" y=\"-241.8\" font-family=\"Helvetica,sans-Serif\" font-size=\"14.00\">value = [[0.0, 34.855]</text>\n",
       "<text text-anchor=\"start\" x=\"213.5\" y=\"-227.8\" font-family=\"Helvetica,sans-Serif\" font-size=\"14.00\">[34.855, 0.0]]</text>\n",
       "</g>\n",
       "<!-- 4&#45;&gt;6 -->\n",
       "<g id=\"edge6\" class=\"edge\">\n",
       "<title>4&#45;&gt;6</title>\n",
       "<path fill=\"none\" stroke=\"black\" d=\"M197.06,-327.77C205.77,-316.55 215.31,-304.27 224.07,-293\"/>\n",
       "<polygon fill=\"black\" stroke=\"black\" points=\"226.9,-295.05 230.28,-285.01 221.38,-290.76 226.9,-295.05\"/>\n",
       "</g>\n",
       "<!-- 10 -->\n",
       "<g id=\"node11\" class=\"node\">\n",
       "<title>10</title>\n",
       "<path fill=\"#e58139\" stroke=\"black\" d=\"M682.8,-513C682.8,-513 551.92,-513 551.92,-513 545.92,-513 539.92,-507 539.92,-501 539.92,-501 539.92,-461 539.92,-461 539.92,-455 545.92,-449 551.92,-449 551.92,-449 682.8,-449 682.8,-449 688.8,-449 694.8,-455 694.8,-461 694.8,-461 694.8,-501 694.8,-501 694.8,-507 688.8,-513 682.8,-513\"/>\n",
       "<text text-anchor=\"start\" x=\"588.76\" y=\"-497.8\" font-family=\"Helvetica,sans-Serif\" font-size=\"14.00\">gini = 0.0</text>\n",
       "<text text-anchor=\"start\" x=\"571.64\" y=\"-483.8\" font-family=\"Helvetica,sans-Serif\" font-size=\"14.00\">samples = 417</text>\n",
       "<text text-anchor=\"start\" x=\"547.89\" y=\"-469.8\" font-family=\"Helvetica,sans-Serif\" font-size=\"14.00\">value = [[0.0, 392.824]</text>\n",
       "<text text-anchor=\"start\" x=\"572.6\" y=\"-455.8\" font-family=\"Helvetica,sans-Serif\" font-size=\"14.00\">[392.824, 0.0]]</text>\n",
       "</g>\n",
       "<!-- 9&#45;&gt;10 -->\n",
       "<g id=\"edge10\" class=\"edge\">\n",
       "<title>9&#45;&gt;10</title>\n",
       "<path fill=\"none\" stroke=\"black\" d=\"M672.69,-555.77C664.36,-544.66 655.25,-532.51 646.86,-521.33\"/>\n",
       "<polygon fill=\"black\" stroke=\"black\" points=\"649.42,-518.91 640.62,-513.01 643.82,-523.11 649.42,-518.91\"/>\n",
       "</g>\n",
       "<!-- 11 -->\n",
       "<g id=\"node12\" class=\"node\">\n",
       "<title>11</title>\n",
       "<path fill=\"#e58139\" stroke=\"black\" d=\"M848.02,-513C848.02,-513 724.71,-513 724.71,-513 718.71,-513 712.71,-507 712.71,-501 712.71,-501 712.71,-461 712.71,-461 712.71,-455 718.71,-449 724.71,-449 724.71,-449 848.02,-449 848.02,-449 854.02,-449 860.02,-455 860.02,-461 860.02,-461 860.02,-501 860.02,-501 860.02,-507 854.02,-513 848.02,-513\"/>\n",
       "<text text-anchor=\"start\" x=\"757.76\" y=\"-497.8\" font-family=\"Helvetica,sans-Serif\" font-size=\"14.00\">gini = 0.0</text>\n",
       "<text text-anchor=\"start\" x=\"744.53\" y=\"-483.8\" font-family=\"Helvetica,sans-Serif\" font-size=\"14.00\">samples = 29</text>\n",
       "<text text-anchor=\"start\" x=\"720.79\" y=\"-469.8\" font-family=\"Helvetica,sans-Serif\" font-size=\"14.00\">value = [[30.841, 0.0]</text>\n",
       "<text text-anchor=\"start\" x=\"745.5\" y=\"-455.8\" font-family=\"Helvetica,sans-Serif\" font-size=\"14.00\">[0.0, 30.841]]</text>\n",
       "</g>\n",
       "<!-- 9&#45;&gt;11 -->\n",
       "<g id=\"edge11\" class=\"edge\">\n",
       "<title>9&#45;&gt;11</title>\n",
       "<path fill=\"none\" stroke=\"black\" d=\"M730.38,-555.77C738.89,-544.55 748.21,-532.27 756.76,-521\"/>\n",
       "<polygon fill=\"black\" stroke=\"black\" points=\"759.57,-523.09 762.83,-513.01 754,-518.86 759.57,-523.09\"/>\n",
       "</g>\n",
       "<!-- 13 -->\n",
       "<g id=\"node14\" class=\"node\">\n",
       "<title>13</title>\n",
       "<path fill=\"#e78a47\" stroke=\"black\" d=\"M1062.68,-634C1062.68,-634 872.05,-634 872.05,-634 866.05,-634 860.05,-628 860.05,-622 860.05,-622 860.05,-568 860.05,-568 860.05,-562 866.05,-556 872.05,-556 872.05,-556 1062.68,-556 1062.68,-556 1068.68,-556 1074.68,-562 1074.68,-568 1074.68,-568 1074.68,-622 1074.68,-622 1074.68,-628 1068.68,-634 1062.68,-634\"/>\n",
       "<text text-anchor=\"start\" x=\"868.2\" y=\"-618.8\" font-family=\"Helvetica,sans-Serif\" font-size=\"14.00\">stalk&#45;surface&#45;below&#45;ring_y ≤ 0.5</text>\n",
       "<text text-anchor=\"start\" x=\"930.97\" y=\"-604.8\" font-family=\"Helvetica,sans-Serif\" font-size=\"14.00\">gini = 0.035</text>\n",
       "<text text-anchor=\"start\" x=\"917.75\" y=\"-590.8\" font-family=\"Helvetica,sans-Serif\" font-size=\"14.00\">samples = 2740</text>\n",
       "<text text-anchor=\"start\" x=\"890.11\" y=\"-576.8\" font-family=\"Helvetica,sans-Serif\" font-size=\"14.00\">value = [[45.73, 2540.64]</text>\n",
       "<text text-anchor=\"start\" x=\"914.82\" y=\"-562.8\" font-family=\"Helvetica,sans-Serif\" font-size=\"14.00\">[2540.64, 45.73]]</text>\n",
       "</g>\n",
       "<!-- 12&#45;&gt;13 -->\n",
       "<g id=\"edge13\" class=\"edge\">\n",
       "<title>12&#45;&gt;13</title>\n",
       "<path fill=\"none\" stroke=\"black\" d=\"M967.36,-669.77C967.36,-661.57 967.36,-652.8 967.36,-644.28\"/>\n",
       "<polygon fill=\"black\" stroke=\"black\" points=\"970.86,-644.06 967.36,-634.06 963.86,-644.06 970.86,-644.06\"/>\n",
       "</g>\n",
       "<!-- 26 -->\n",
       "<g id=\"node27\" class=\"node\">\n",
       "<title>26</title>\n",
       "<path fill=\"#e58139\" stroke=\"black\" d=\"M1228.02,-627C1228.02,-627 1104.71,-627 1104.71,-627 1098.71,-627 1092.71,-621 1092.71,-615 1092.71,-615 1092.71,-575 1092.71,-575 1092.71,-569 1098.71,-563 1104.71,-563 1104.71,-563 1228.02,-563 1228.02,-563 1234.02,-563 1240.02,-569 1240.02,-575 1240.02,-575 1240.02,-615 1240.02,-615 1240.02,-621 1234.02,-627 1228.02,-627\"/>\n",
       "<text text-anchor=\"start\" x=\"1135.43\" y=\"-611.8\" font-family=\"Helvetica,sans-Serif\" font-size=\"14.00\">gini = &#45;0.0</text>\n",
       "<text text-anchor=\"start\" x=\"1124.53\" y=\"-597.8\" font-family=\"Helvetica,sans-Serif\" font-size=\"14.00\">samples = 57</text>\n",
       "<text text-anchor=\"start\" x=\"1100.79\" y=\"-583.8\" font-family=\"Helvetica,sans-Serif\" font-size=\"14.00\">value = [[60.619, 0.0]</text>\n",
       "<text text-anchor=\"start\" x=\"1125.5\" y=\"-569.8\" font-family=\"Helvetica,sans-Serif\" font-size=\"14.00\">[0.0, 60.619]]</text>\n",
       "</g>\n",
       "<!-- 12&#45;&gt;26 -->\n",
       "<g id=\"edge26\" class=\"edge\">\n",
       "<title>12&#45;&gt;26</title>\n",
       "<path fill=\"none\" stroke=\"black\" d=\"M1035.01,-669.93C1056.8,-657.66 1080.87,-644.12 1102.38,-632.01\"/>\n",
       "<polygon fill=\"black\" stroke=\"black\" points=\"1104.12,-635.05 1111.11,-627.09 1100.68,-628.95 1104.12,-635.05\"/>\n",
       "</g>\n",
       "<!-- 14 -->\n",
       "<g id=\"node15\" class=\"node\">\n",
       "<title>14</title>\n",
       "<path fill=\"#e5823b\" stroke=\"black\" d=\"M1044.66,-520C1044.66,-520 890.06,-520 890.06,-520 884.06,-520 878.06,-514 878.06,-508 878.06,-508 878.06,-454 878.06,-454 878.06,-448 884.06,-442 890.06,-442 890.06,-442 1044.66,-442 1044.66,-442 1050.66,-442 1056.66,-448 1056.66,-454 1056.66,-454 1056.66,-508 1056.66,-508 1056.66,-514 1050.66,-520 1044.66,-520\"/>\n",
       "<text text-anchor=\"start\" x=\"905.54\" y=\"-504.8\" font-family=\"Helvetica,sans-Serif\" font-size=\"14.00\">cap&#45;surface_g ≤ 0.5</text>\n",
       "<text text-anchor=\"start\" x=\"930.97\" y=\"-490.8\" font-family=\"Helvetica,sans-Serif\" font-size=\"14.00\">gini = 0.004</text>\n",
       "<text text-anchor=\"start\" x=\"917.75\" y=\"-476.8\" font-family=\"Helvetica,sans-Serif\" font-size=\"14.00\">samples = 2689</text>\n",
       "<text text-anchor=\"start\" x=\"886.21\" y=\"-462.8\" font-family=\"Helvetica,sans-Serif\" font-size=\"14.00\">value = [[5.317, 2528.394]</text>\n",
       "<text text-anchor=\"start\" x=\"910.93\" y=\"-448.8\" font-family=\"Helvetica,sans-Serif\" font-size=\"14.00\">[2528.394, 5.317]]</text>\n",
       "</g>\n",
       "<!-- 13&#45;&gt;14 -->\n",
       "<g id=\"edge14\" class=\"edge\">\n",
       "<title>13&#45;&gt;14</title>\n",
       "<path fill=\"none\" stroke=\"black\" d=\"M967.36,-555.77C967.36,-547.57 967.36,-538.8 967.36,-530.28\"/>\n",
       "<polygon fill=\"black\" stroke=\"black\" points=\"970.86,-530.06 967.36,-520.06 963.86,-530.06 970.86,-530.06\"/>\n",
       "</g>\n",
       "<!-- 23 -->\n",
       "<g id=\"node24\" class=\"node\">\n",
       "<title>23</title>\n",
       "<path fill=\"#f8dbc6\" stroke=\"black\" d=\"M1232.38,-520C1232.38,-520 1086.35,-520 1086.35,-520 1080.35,-520 1074.35,-514 1074.35,-508 1074.35,-508 1074.35,-454 1074.35,-454 1074.35,-448 1080.35,-442 1086.35,-442 1086.35,-442 1232.38,-442 1232.38,-442 1238.38,-442 1244.38,-448 1244.38,-454 1244.38,-454 1244.38,-508 1244.38,-508 1244.38,-514 1238.38,-520 1232.38,-520\"/>\n",
       "<text text-anchor=\"start\" x=\"1105.33\" y=\"-504.8\" font-family=\"Helvetica,sans-Serif\" font-size=\"14.00\">stalk&#45;root_b ≤ 0.5</text>\n",
       "<text text-anchor=\"start\" x=\"1122.97\" y=\"-490.8\" font-family=\"Helvetica,sans-Serif\" font-size=\"14.00\">gini = 0.357</text>\n",
       "<text text-anchor=\"start\" x=\"1117.53\" y=\"-476.8\" font-family=\"Helvetica,sans-Serif\" font-size=\"14.00\">samples = 51</text>\n",
       "<text text-anchor=\"start\" x=\"1082.11\" y=\"-462.8\" font-family=\"Helvetica,sans-Serif\" font-size=\"14.00\">value = [[40.413, 12.246]</text>\n",
       "<text text-anchor=\"start\" x=\"1106.82\" y=\"-448.8\" font-family=\"Helvetica,sans-Serif\" font-size=\"14.00\">[12.246, 40.413]]</text>\n",
       "</g>\n",
       "<!-- 13&#45;&gt;23 -->\n",
       "<g id=\"edge23\" class=\"edge\">\n",
       "<title>13&#45;&gt;23</title>\n",
       "<path fill=\"none\" stroke=\"black\" d=\"M1032.63,-555.93C1049.48,-546.1 1067.74,-535.45 1085.02,-525.37\"/>\n",
       "<polygon fill=\"black\" stroke=\"black\" points=\"1087.07,-528.22 1093.95,-520.16 1083.55,-522.17 1087.07,-528.22\"/>\n",
       "</g>\n",
       "<!-- 15 -->\n",
       "<g id=\"node16\" class=\"node\">\n",
       "<title>15</title>\n",
       "<path fill=\"#e5813a\" stroke=\"black\" d=\"M880.66,-406C880.66,-406 726.06,-406 726.06,-406 720.06,-406 714.06,-400 714.06,-394 714.06,-394 714.06,-340 714.06,-340 714.06,-334 720.06,-328 726.06,-328 726.06,-328 880.66,-328 880.66,-328 886.66,-328 892.66,-334 892.66,-340 892.66,-340 892.66,-394 892.66,-394 892.66,-400 886.66,-406 880.66,-406\"/>\n",
       "<text text-anchor=\"start\" x=\"745.82\" y=\"-390.8\" font-family=\"Helvetica,sans-Serif\" font-size=\"14.00\">cap&#45;shape_c ≤ 0.5</text>\n",
       "<text text-anchor=\"start\" x=\"766.97\" y=\"-376.8\" font-family=\"Helvetica,sans-Serif\" font-size=\"14.00\">gini = 0.002</text>\n",
       "<text text-anchor=\"start\" x=\"753.75\" y=\"-362.8\" font-family=\"Helvetica,sans-Serif\" font-size=\"14.00\">samples = 2686</text>\n",
       "<text text-anchor=\"start\" x=\"722.21\" y=\"-348.8\" font-family=\"Helvetica,sans-Serif\" font-size=\"14.00\">value = [[2.127, 2528.394]</text>\n",
       "<text text-anchor=\"start\" x=\"746.93\" y=\"-334.8\" font-family=\"Helvetica,sans-Serif\" font-size=\"14.00\">[2528.394, 2.127]]</text>\n",
       "</g>\n",
       "<!-- 14&#45;&gt;15 -->\n",
       "<g id=\"edge15\" class=\"edge\">\n",
       "<title>14&#45;&gt;15</title>\n",
       "<path fill=\"none\" stroke=\"black\" d=\"M911.38,-441.77C897.27,-432.13 882,-421.7 867.52,-411.81\"/>\n",
       "<polygon fill=\"black\" stroke=\"black\" points=\"869.32,-408.81 859.09,-406.06 865.38,-414.59 869.32,-408.81\"/>\n",
       "</g>\n",
       "<!-- 22 -->\n",
       "<g id=\"node23\" class=\"node\">\n",
       "<title>22</title>\n",
       "<path fill=\"#e58139\" stroke=\"black\" d=\"M1029.95,-399C1029.95,-399 922.78,-399 922.78,-399 916.78,-399 910.78,-393 910.78,-387 910.78,-387 910.78,-347 910.78,-347 910.78,-341 916.78,-335 922.78,-335 922.78,-335 1029.95,-335 1029.95,-335 1035.95,-335 1041.95,-341 1041.95,-347 1041.95,-347 1041.95,-387 1041.95,-387 1041.95,-393 1035.95,-399 1029.95,-399\"/>\n",
       "<text text-anchor=\"start\" x=\"945.43\" y=\"-383.8\" font-family=\"Helvetica,sans-Serif\" font-size=\"14.00\">gini = &#45;0.0</text>\n",
       "<text text-anchor=\"start\" x=\"938.43\" y=\"-369.8\" font-family=\"Helvetica,sans-Serif\" font-size=\"14.00\">samples = 3</text>\n",
       "<text text-anchor=\"start\" x=\"918.57\" y=\"-355.8\" font-family=\"Helvetica,sans-Serif\" font-size=\"14.00\">value = [[3.19, 0.0]</text>\n",
       "<text text-anchor=\"start\" x=\"943.28\" y=\"-341.8\" font-family=\"Helvetica,sans-Serif\" font-size=\"14.00\">[0.0, 3.19]]</text>\n",
       "</g>\n",
       "<!-- 14&#45;&gt;22 -->\n",
       "<g id=\"edge22\" class=\"edge\">\n",
       "<title>14&#45;&gt;22</title>\n",
       "<path fill=\"none\" stroke=\"black\" d=\"M970.44,-441.77C971.28,-431.2 972.21,-419.7 973.07,-408.98\"/>\n",
       "<polygon fill=\"black\" stroke=\"black\" points=\"976.56,-409.26 973.87,-399.01 969.58,-408.7 976.56,-409.26\"/>\n",
       "</g>\n",
       "<!-- 16 -->\n",
       "<g id=\"node17\" class=\"node\">\n",
       "<title>16</title>\n",
       "<path fill=\"#e58139\" stroke=\"black\" d=\"M791.66,-292C791.66,-292 637.06,-292 637.06,-292 631.06,-292 625.06,-286 625.06,-280 625.06,-280 625.06,-226 625.06,-226 625.06,-220 631.06,-214 637.06,-214 637.06,-214 791.66,-214 791.66,-214 797.66,-214 803.66,-220 803.66,-226 803.66,-226 803.66,-280 803.66,-280 803.66,-286 797.66,-292 791.66,-292\"/>\n",
       "<text text-anchor=\"start\" x=\"665.78\" y=\"-276.8\" font-family=\"Helvetica,sans-Serif\" font-size=\"14.00\">gill&#45;size_b ≤ 0.5</text>\n",
       "<text text-anchor=\"start\" x=\"677.97\" y=\"-262.8\" font-family=\"Helvetica,sans-Serif\" font-size=\"14.00\">gini = 0.001</text>\n",
       "<text text-anchor=\"start\" x=\"664.75\" y=\"-248.8\" font-family=\"Helvetica,sans-Serif\" font-size=\"14.00\">samples = 2685</text>\n",
       "<text text-anchor=\"start\" x=\"633.21\" y=\"-234.8\" font-family=\"Helvetica,sans-Serif\" font-size=\"14.00\">value = [[1.063, 2528.394]</text>\n",
       "<text text-anchor=\"start\" x=\"657.93\" y=\"-220.8\" font-family=\"Helvetica,sans-Serif\" font-size=\"14.00\">[2528.394, 1.063]]</text>\n",
       "</g>\n",
       "<!-- 15&#45;&gt;16 -->\n",
       "<g id=\"edge16\" class=\"edge\">\n",
       "<title>15&#45;&gt;16</title>\n",
       "<path fill=\"none\" stroke=\"black\" d=\"M772.98,-327.77C765.89,-318.85 758.27,-309.26 750.95,-300.04\"/>\n",
       "<polygon fill=\"black\" stroke=\"black\" points=\"753.57,-297.71 744.61,-292.06 748.09,-302.07 753.57,-297.71\"/>\n",
       "</g>\n",
       "<!-- 21 -->\n",
       "<g id=\"node22\" class=\"node\">\n",
       "<title>21</title>\n",
       "<path fill=\"#e58139\" stroke=\"black\" d=\"M949.23,-285C949.23,-285 833.49,-285 833.49,-285 827.49,-285 821.49,-279 821.49,-273 821.49,-273 821.49,-233 821.49,-233 821.49,-227 827.49,-221 833.49,-221 833.49,-221 949.23,-221 949.23,-221 955.23,-221 961.23,-227 961.23,-233 961.23,-233 961.23,-273 961.23,-273 961.23,-279 955.23,-285 949.23,-285\"/>\n",
       "<text text-anchor=\"start\" x=\"860.43\" y=\"-269.8\" font-family=\"Helvetica,sans-Serif\" font-size=\"14.00\">gini = &#45;0.0</text>\n",
       "<text text-anchor=\"start\" x=\"853.43\" y=\"-255.8\" font-family=\"Helvetica,sans-Serif\" font-size=\"14.00\">samples = 1</text>\n",
       "<text text-anchor=\"start\" x=\"829.68\" y=\"-241.8\" font-family=\"Helvetica,sans-Serif\" font-size=\"14.00\">value = [[1.063, 0.0]</text>\n",
       "<text text-anchor=\"start\" x=\"854.39\" y=\"-227.8\" font-family=\"Helvetica,sans-Serif\" font-size=\"14.00\">[0.0, 1.063]]</text>\n",
       "</g>\n",
       "<!-- 15&#45;&gt;21 -->\n",
       "<g id=\"edge21\" class=\"edge\">\n",
       "<title>15&#45;&gt;21</title>\n",
       "<path fill=\"none\" stroke=\"black\" d=\"M833.4,-327.77C842.22,-316.55 851.86,-304.27 860.72,-293\"/>\n",
       "<polygon fill=\"black\" stroke=\"black\" points=\"863.57,-295.04 867,-285.01 858.07,-290.71 863.57,-295.04\"/>\n",
       "</g>\n",
       "<!-- 17 -->\n",
       "<g id=\"node18\" class=\"node\">\n",
       "<title>17</title>\n",
       "<path fill=\"#e6853f\" stroke=\"black\" d=\"M697.38,-178C697.38,-178 551.35,-178 551.35,-178 545.35,-178 539.35,-172 539.35,-166 539.35,-166 539.35,-112 539.35,-112 539.35,-106 545.35,-100 551.35,-100 551.35,-100 697.38,-100 697.38,-100 703.38,-100 709.38,-106 709.38,-112 709.38,-112 709.38,-166 709.38,-166 709.38,-172 703.38,-178 697.38,-178\"/>\n",
       "<text text-anchor=\"start\" x=\"578.5\" y=\"-162.8\" font-family=\"Helvetica,sans-Serif\" font-size=\"14.00\">bruises_t ≤ 0.5</text>\n",
       "<text text-anchor=\"start\" x=\"587.97\" y=\"-148.8\" font-family=\"Helvetica,sans-Serif\" font-size=\"14.00\">gini = 0.015</text>\n",
       "<text text-anchor=\"start\" x=\"578.64\" y=\"-134.8\" font-family=\"Helvetica,sans-Serif\" font-size=\"14.00\">samples = 151</text>\n",
       "<text text-anchor=\"start\" x=\"547.11\" y=\"-120.8\" font-family=\"Helvetica,sans-Serif\" font-size=\"14.00\">value = [[1.063, 141.304]</text>\n",
       "<text text-anchor=\"start\" x=\"571.82\" y=\"-106.8\" font-family=\"Helvetica,sans-Serif\" font-size=\"14.00\">[141.304, 1.063]]</text>\n",
       "</g>\n",
       "<!-- 16&#45;&gt;17 -->\n",
       "<g id=\"edge17\" class=\"edge\">\n",
       "<title>16&#45;&gt;17</title>\n",
       "<path fill=\"none\" stroke=\"black\" d=\"M683.64,-213.77C676.47,-204.85 668.77,-195.26 661.36,-186.04\"/>\n",
       "<polygon fill=\"black\" stroke=\"black\" points=\"663.94,-183.66 654.95,-178.06 658.48,-188.05 663.94,-183.66\"/>\n",
       "</g>\n",
       "<!-- 20 -->\n",
       "<g id=\"node21\" class=\"node\">\n",
       "<title>20</title>\n",
       "<path fill=\"#e58139\" stroke=\"black\" d=\"M870.8,-171C870.8,-171 739.92,-171 739.92,-171 733.92,-171 727.92,-165 727.92,-159 727.92,-159 727.92,-119 727.92,-119 727.92,-113 733.92,-107 739.92,-107 739.92,-107 870.8,-107 870.8,-107 876.8,-107 882.8,-113 882.8,-119 882.8,-119 882.8,-159 882.8,-159 882.8,-165 876.8,-171 870.8,-171\"/>\n",
       "<text text-anchor=\"start\" x=\"774.43\" y=\"-155.8\" font-family=\"Helvetica,sans-Serif\" font-size=\"14.00\">gini = &#45;0.0</text>\n",
       "<text text-anchor=\"start\" x=\"755.75\" y=\"-141.8\" font-family=\"Helvetica,sans-Serif\" font-size=\"14.00\">samples = 2534</text>\n",
       "<text text-anchor=\"start\" x=\"735.89\" y=\"-127.8\" font-family=\"Helvetica,sans-Serif\" font-size=\"14.00\">value = [[0.0, 2387.09]</text>\n",
       "<text text-anchor=\"start\" x=\"760.6\" y=\"-113.8\" font-family=\"Helvetica,sans-Serif\" font-size=\"14.00\">[2387.09, 0.0]]</text>\n",
       "</g>\n",
       "<!-- 16&#45;&gt;20 -->\n",
       "<g id=\"edge20\" class=\"edge\">\n",
       "<title>16&#45;&gt;20</title>\n",
       "<path fill=\"none\" stroke=\"black\" d=\"M745.43,-213.77C754.54,-202.55 764.52,-190.27 773.67,-179\"/>\n",
       "<polygon fill=\"black\" stroke=\"black\" points=\"776.58,-180.98 780.17,-171.01 771.15,-176.56 776.58,-180.98\"/>\n",
       "</g>\n",
       "<!-- 18 -->\n",
       "<g id=\"node19\" class=\"node\">\n",
       "<title>18</title>\n",
       "<path fill=\"#e58139\" stroke=\"black\" d=\"M607.8,-64C607.8,-64 476.92,-64 476.92,-64 470.92,-64 464.92,-58 464.92,-52 464.92,-52 464.92,-12 464.92,-12 464.92,-6 470.92,0 476.92,0 476.92,0 607.8,0 607.8,0 613.8,0 619.8,-6 619.8,-12 619.8,-12 619.8,-52 619.8,-52 619.8,-58 613.8,-64 607.8,-64\"/>\n",
       "<text text-anchor=\"start\" x=\"513.76\" y=\"-48.8\" font-family=\"Helvetica,sans-Serif\" font-size=\"14.00\">gini = 0.0</text>\n",
       "<text text-anchor=\"start\" x=\"496.64\" y=\"-34.8\" font-family=\"Helvetica,sans-Serif\" font-size=\"14.00\">samples = 150</text>\n",
       "<text text-anchor=\"start\" x=\"472.89\" y=\"-20.8\" font-family=\"Helvetica,sans-Serif\" font-size=\"14.00\">value = [[0.0, 141.304]</text>\n",
       "<text text-anchor=\"start\" x=\"497.6\" y=\"-6.8\" font-family=\"Helvetica,sans-Serif\" font-size=\"14.00\">[141.304, 0.0]]</text>\n",
       "</g>\n",
       "<!-- 17&#45;&gt;18 -->\n",
       "<g id=\"edge18\" class=\"edge\">\n",
       "<title>17&#45;&gt;18</title>\n",
       "<path fill=\"none\" stroke=\"black\" d=\"M594.53,-99.8C587.52,-90.82 580.03,-81.23 572.99,-72.21\"/>\n",
       "<polygon fill=\"black\" stroke=\"black\" points=\"575.58,-69.84 566.66,-64.12 570.06,-74.15 575.58,-69.84\"/>\n",
       "</g>\n",
       "<!-- 19 -->\n",
       "<g id=\"node20\" class=\"node\">\n",
       "<title>19</title>\n",
       "<path fill=\"#e58139\" stroke=\"black\" d=\"M765.23,-64C765.23,-64 649.49,-64 649.49,-64 643.49,-64 637.49,-58 637.49,-52 637.49,-52 637.49,-12 637.49,-12 637.49,-6 643.49,0 649.49,0 649.49,0 765.23,0 765.23,0 771.23,0 777.23,-6 777.23,-12 777.23,-12 777.23,-52 777.23,-52 777.23,-58 771.23,-64 765.23,-64\"/>\n",
       "<text text-anchor=\"start\" x=\"676.43\" y=\"-48.8\" font-family=\"Helvetica,sans-Serif\" font-size=\"14.00\">gini = &#45;0.0</text>\n",
       "<text text-anchor=\"start\" x=\"669.43\" y=\"-34.8\" font-family=\"Helvetica,sans-Serif\" font-size=\"14.00\">samples = 1</text>\n",
       "<text text-anchor=\"start\" x=\"645.68\" y=\"-20.8\" font-family=\"Helvetica,sans-Serif\" font-size=\"14.00\">value = [[1.063, 0.0]</text>\n",
       "<text text-anchor=\"start\" x=\"670.39\" y=\"-6.8\" font-family=\"Helvetica,sans-Serif\" font-size=\"14.00\">[0.0, 1.063]]</text>\n",
       "</g>\n",
       "<!-- 17&#45;&gt;19 -->\n",
       "<g id=\"edge19\" class=\"edge\">\n",
       "<title>17&#45;&gt;19</title>\n",
       "<path fill=\"none\" stroke=\"black\" d=\"M654.56,-99.8C661.66,-90.82 669.24,-81.23 676.37,-72.21\"/>\n",
       "<polygon fill=\"black\" stroke=\"black\" points=\"679.31,-74.13 682.77,-64.12 673.82,-69.79 679.31,-74.13\"/>\n",
       "</g>\n",
       "<!-- 24 -->\n",
       "<g id=\"node25\" class=\"node\">\n",
       "<title>24</title>\n",
       "<path fill=\"#e58139\" stroke=\"black\" d=\"M1212.02,-399C1212.02,-399 1088.71,-399 1088.71,-399 1082.71,-399 1076.71,-393 1076.71,-387 1076.71,-387 1076.71,-347 1076.71,-347 1076.71,-341 1082.71,-335 1088.71,-335 1088.71,-335 1212.02,-335 1212.02,-335 1218.02,-335 1224.02,-341 1224.02,-347 1224.02,-347 1224.02,-387 1224.02,-387 1224.02,-393 1218.02,-399 1212.02,-399\"/>\n",
       "<text text-anchor=\"start\" x=\"1121.76\" y=\"-383.8\" font-family=\"Helvetica,sans-Serif\" font-size=\"14.00\">gini = 0.0</text>\n",
       "<text text-anchor=\"start\" x=\"1108.53\" y=\"-369.8\" font-family=\"Helvetica,sans-Serif\" font-size=\"14.00\">samples = 38</text>\n",
       "<text text-anchor=\"start\" x=\"1084.79\" y=\"-355.8\" font-family=\"Helvetica,sans-Serif\" font-size=\"14.00\">value = [[40.413, 0.0]</text>\n",
       "<text text-anchor=\"start\" x=\"1109.5\" y=\"-341.8\" font-family=\"Helvetica,sans-Serif\" font-size=\"14.00\">[0.0, 40.413]]</text>\n",
       "</g>\n",
       "<!-- 23&#45;&gt;24 -->\n",
       "<g id=\"edge24\" class=\"edge\">\n",
       "<title>23&#45;&gt;24</title>\n",
       "<path fill=\"none\" stroke=\"black\" d=\"M1156.29,-441.77C1155.44,-431.2 1154.52,-419.7 1153.66,-408.98\"/>\n",
       "<polygon fill=\"black\" stroke=\"black\" points=\"1157.14,-408.7 1152.86,-399.01 1150.17,-409.26 1157.14,-408.7\"/>\n",
       "</g>\n",
       "<!-- 25 -->\n",
       "<g id=\"node26\" class=\"node\">\n",
       "<title>25</title>\n",
       "<path fill=\"#e58139\" stroke=\"black\" d=\"M1377.02,-399C1377.02,-399 1253.71,-399 1253.71,-399 1247.71,-399 1241.71,-393 1241.71,-387 1241.71,-387 1241.71,-347 1241.71,-347 1241.71,-341 1247.71,-335 1253.71,-335 1253.71,-335 1377.02,-335 1377.02,-335 1383.02,-335 1389.02,-341 1389.02,-347 1389.02,-347 1389.02,-387 1389.02,-387 1389.02,-393 1383.02,-399 1377.02,-399\"/>\n",
       "<text text-anchor=\"start\" x=\"1284.43\" y=\"-383.8\" font-family=\"Helvetica,sans-Serif\" font-size=\"14.00\">gini = &#45;0.0</text>\n",
       "<text text-anchor=\"start\" x=\"1273.53\" y=\"-369.8\" font-family=\"Helvetica,sans-Serif\" font-size=\"14.00\">samples = 13</text>\n",
       "<text text-anchor=\"start\" x=\"1249.79\" y=\"-355.8\" font-family=\"Helvetica,sans-Serif\" font-size=\"14.00\">value = [[0.0, 12.246]</text>\n",
       "<text text-anchor=\"start\" x=\"1274.5\" y=\"-341.8\" font-family=\"Helvetica,sans-Serif\" font-size=\"14.00\">[12.246, 0.0]]</text>\n",
       "</g>\n",
       "<!-- 23&#45;&gt;25 -->\n",
       "<g id=\"edge25\" class=\"edge\">\n",
       "<title>23&#45;&gt;25</title>\n",
       "<path fill=\"none\" stroke=\"black\" d=\"M1212.61,-441.77C1229.15,-429.9 1247.34,-416.84 1263.76,-405.05\"/>\n",
       "<polygon fill=\"black\" stroke=\"black\" points=\"1266.09,-407.69 1272.17,-399.01 1262.01,-402 1266.09,-407.69\"/>\n",
       "</g>\n",
       "</g>\n",
       "</svg>\n"
      ],
      "text/plain": [
       "<graphviz.files.Source at 0x1195bc670>"
      ]
     },
     "execution_count": 8,
     "metadata": {},
     "output_type": "execute_result"
    }
   ],
   "source": [
    "dot_data = sktree.export_graphviz(model, out_file=None,\n",
    "                                feature_names=X_test.columns,\n",
    "                               class_names=y_test.columns,\n",
    "                               filled=True, rounded=True,\n",
    "                               special_characters=True)\n",
    "graph = graphviz.Source(dot_data)\n",
    "graph"
   ]
  },
  {
   "cell_type": "markdown",
   "metadata": {},
   "source": [
    "sklearn中的CART一般是不剪枝的。提供了ccp_alpha可以设定 $\\alpha$ 的值，但是应用起来并不按照CART原来的方法，而是如上在许多超参数中做grid search找出最佳的超参数。"
   ]
  },
  {
   "cell_type": "markdown",
   "metadata": {},
   "source": [
    "下面都是自己写的算法。\n",
    "\n",
    "没有将categorical variable转化为dummy-code，直接用了pandas中的categorical type。可能由于类似的工程原因导致效果一般。"
   ]
  },
  {
   "cell_type": "markdown",
   "metadata": {},
   "source": [
    "#### CART\n",
    "\n",
    "根据ESL等教材，CART原本的方法是先用weakest link pruning找出一系列 $\\alpha$，再用10-fold CV来选择最佳的 $\\alpha$ 进行剪枝。在我自己写的决策树类中实现了这一算法。10-fold CV选 $\\alpha$ 的过程耗时太长（要建立10*$\\alpha$的个数数目的树），因此在代码中改成了 3-fold。"
   ]
  },
  {
   "cell_type": "code",
   "execution_count": 9,
   "metadata": {},
   "outputs": [
    {
     "data": {
      "text/html": [
       "<div>\n",
       "<style scoped>\n",
       "    .dataframe tbody tr th:only-of-type {\n",
       "        vertical-align: middle;\n",
       "    }\n",
       "\n",
       "    .dataframe tbody tr th {\n",
       "        vertical-align: top;\n",
       "    }\n",
       "\n",
       "    .dataframe thead th {\n",
       "        text-align: right;\n",
       "    }\n",
       "</style>\n",
       "<table border=\"1\" class=\"dataframe\">\n",
       "  <thead>\n",
       "    <tr style=\"text-align: right;\">\n",
       "      <th></th>\n",
       "      <th>class</th>\n",
       "      <th>cap-shape</th>\n",
       "      <th>cap-surface</th>\n",
       "      <th>cap-color</th>\n",
       "      <th>bruises</th>\n",
       "      <th>odor</th>\n",
       "      <th>gill-attachment</th>\n",
       "      <th>gill-spacing</th>\n",
       "      <th>gill-size</th>\n",
       "      <th>gill-color</th>\n",
       "      <th>stalk-shape</th>\n",
       "      <th>stalk-root</th>\n",
       "      <th>stalk-surface-above-ring</th>\n",
       "      <th>stalk-surface-below-ring</th>\n",
       "      <th>stalk-color-above-ring</th>\n",
       "      <th>stalk-color-below-ring</th>\n",
       "      <th>veil-type</th>\n",
       "      <th>veil-color</th>\n",
       "      <th>ring-number</th>\n",
       "      <th>ring-type</th>\n",
       "      <th>spore-print-color</th>\n",
       "      <th>population</th>\n",
       "      <th>habitat</th>\n",
       "    </tr>\n",
       "  </thead>\n",
       "  <tbody>\n",
       "    <tr>\n",
       "      <th>0</th>\n",
       "      <td>p</td>\n",
       "      <td>x</td>\n",
       "      <td>s</td>\n",
       "      <td>n</td>\n",
       "      <td>t</td>\n",
       "      <td>p</td>\n",
       "      <td>f</td>\n",
       "      <td>c</td>\n",
       "      <td>n</td>\n",
       "      <td>k</td>\n",
       "      <td>e</td>\n",
       "      <td>e</td>\n",
       "      <td>s</td>\n",
       "      <td>s</td>\n",
       "      <td>w</td>\n",
       "      <td>w</td>\n",
       "      <td>p</td>\n",
       "      <td>w</td>\n",
       "      <td>o</td>\n",
       "      <td>p</td>\n",
       "      <td>k</td>\n",
       "      <td>s</td>\n",
       "      <td>u</td>\n",
       "    </tr>\n",
       "    <tr>\n",
       "      <th>1</th>\n",
       "      <td>e</td>\n",
       "      <td>x</td>\n",
       "      <td>s</td>\n",
       "      <td>y</td>\n",
       "      <td>t</td>\n",
       "      <td>a</td>\n",
       "      <td>f</td>\n",
       "      <td>c</td>\n",
       "      <td>b</td>\n",
       "      <td>k</td>\n",
       "      <td>e</td>\n",
       "      <td>c</td>\n",
       "      <td>s</td>\n",
       "      <td>s</td>\n",
       "      <td>w</td>\n",
       "      <td>w</td>\n",
       "      <td>p</td>\n",
       "      <td>w</td>\n",
       "      <td>o</td>\n",
       "      <td>p</td>\n",
       "      <td>n</td>\n",
       "      <td>n</td>\n",
       "      <td>g</td>\n",
       "    </tr>\n",
       "    <tr>\n",
       "      <th>2</th>\n",
       "      <td>e</td>\n",
       "      <td>b</td>\n",
       "      <td>s</td>\n",
       "      <td>w</td>\n",
       "      <td>t</td>\n",
       "      <td>l</td>\n",
       "      <td>f</td>\n",
       "      <td>c</td>\n",
       "      <td>b</td>\n",
       "      <td>n</td>\n",
       "      <td>e</td>\n",
       "      <td>c</td>\n",
       "      <td>s</td>\n",
       "      <td>s</td>\n",
       "      <td>w</td>\n",
       "      <td>w</td>\n",
       "      <td>p</td>\n",
       "      <td>w</td>\n",
       "      <td>o</td>\n",
       "      <td>p</td>\n",
       "      <td>n</td>\n",
       "      <td>n</td>\n",
       "      <td>m</td>\n",
       "    </tr>\n",
       "    <tr>\n",
       "      <th>3</th>\n",
       "      <td>p</td>\n",
       "      <td>x</td>\n",
       "      <td>y</td>\n",
       "      <td>w</td>\n",
       "      <td>t</td>\n",
       "      <td>p</td>\n",
       "      <td>f</td>\n",
       "      <td>c</td>\n",
       "      <td>n</td>\n",
       "      <td>n</td>\n",
       "      <td>e</td>\n",
       "      <td>e</td>\n",
       "      <td>s</td>\n",
       "      <td>s</td>\n",
       "      <td>w</td>\n",
       "      <td>w</td>\n",
       "      <td>p</td>\n",
       "      <td>w</td>\n",
       "      <td>o</td>\n",
       "      <td>p</td>\n",
       "      <td>k</td>\n",
       "      <td>s</td>\n",
       "      <td>u</td>\n",
       "    </tr>\n",
       "    <tr>\n",
       "      <th>4</th>\n",
       "      <td>e</td>\n",
       "      <td>x</td>\n",
       "      <td>s</td>\n",
       "      <td>g</td>\n",
       "      <td>f</td>\n",
       "      <td>n</td>\n",
       "      <td>f</td>\n",
       "      <td>w</td>\n",
       "      <td>b</td>\n",
       "      <td>k</td>\n",
       "      <td>t</td>\n",
       "      <td>e</td>\n",
       "      <td>s</td>\n",
       "      <td>s</td>\n",
       "      <td>w</td>\n",
       "      <td>w</td>\n",
       "      <td>p</td>\n",
       "      <td>w</td>\n",
       "      <td>o</td>\n",
       "      <td>e</td>\n",
       "      <td>n</td>\n",
       "      <td>a</td>\n",
       "      <td>g</td>\n",
       "    </tr>\n",
       "  </tbody>\n",
       "</table>\n",
       "</div>"
      ],
      "text/plain": [
       "  class cap-shape cap-surface cap-color bruises odor gill-attachment  \\\n",
       "0     p         x           s         n       t    p               f   \n",
       "1     e         x           s         y       t    a               f   \n",
       "2     e         b           s         w       t    l               f   \n",
       "3     p         x           y         w       t    p               f   \n",
       "4     e         x           s         g       f    n               f   \n",
       "\n",
       "  gill-spacing gill-size gill-color stalk-shape stalk-root  \\\n",
       "0            c         n          k           e          e   \n",
       "1            c         b          k           e          c   \n",
       "2            c         b          n           e          c   \n",
       "3            c         n          n           e          e   \n",
       "4            w         b          k           t          e   \n",
       "\n",
       "  stalk-surface-above-ring stalk-surface-below-ring stalk-color-above-ring  \\\n",
       "0                        s                        s                      w   \n",
       "1                        s                        s                      w   \n",
       "2                        s                        s                      w   \n",
       "3                        s                        s                      w   \n",
       "4                        s                        s                      w   \n",
       "\n",
       "  stalk-color-below-ring veil-type veil-color ring-number ring-type  \\\n",
       "0                      w         p          w           o         p   \n",
       "1                      w         p          w           o         p   \n",
       "2                      w         p          w           o         p   \n",
       "3                      w         p          w           o         p   \n",
       "4                      w         p          w           o         e   \n",
       "\n",
       "  spore-print-color population habitat  \n",
       "0                 k          s       u  \n",
       "1                 n          n       g  \n",
       "2                 n          n       m  \n",
       "3                 k          s       u  \n",
       "4                 n          a       g  "
      ]
     },
     "execution_count": 9,
     "metadata": {},
     "output_type": "execute_result"
    }
   ],
   "source": [
    "df = pd.read_csv('data/mushrooms.csv')\n",
    "df.head()"
   ]
  },
  {
   "cell_type": "markdown",
   "metadata": {},
   "source": [
    "将target列调整到最后一列。"
   ]
  },
  {
   "cell_type": "code",
   "execution_count": 10,
   "metadata": {},
   "outputs": [],
   "source": [
    "col = list(df.columns)[1:] + ['class']\n",
    "df = df[col]"
   ]
  },
  {
   "cell_type": "code",
   "execution_count": 11,
   "metadata": {},
   "outputs": [
    {
     "data": {
      "text/plain": [
       "Index(['cap-shape', 'cap-surface', 'cap-color', 'bruises', 'odor',\n",
       "       'gill-attachment', 'gill-spacing', 'gill-size', 'gill-color',\n",
       "       'stalk-shape', 'stalk-root', 'stalk-surface-above-ring',\n",
       "       'stalk-surface-below-ring', 'stalk-color-above-ring',\n",
       "       'stalk-color-below-ring', 'veil-type', 'veil-color', 'ring-number',\n",
       "       'ring-type', 'spore-print-color', 'population', 'habitat', 'class'],\n",
       "      dtype='object')"
      ]
     },
     "execution_count": 11,
     "metadata": {},
     "output_type": "execute_result"
    }
   ],
   "source": [
    "df.columns"
   ]
  },
  {
   "cell_type": "markdown",
   "metadata": {},
   "source": [
    "pandas处理要求将-换成_。"
   ]
  },
  {
   "cell_type": "code",
   "execution_count": 12,
   "metadata": {},
   "outputs": [],
   "source": [
    "df.columns = [x.strip().replace('-', '_') for x in df.columns]"
   ]
  },
  {
   "cell_type": "code",
   "execution_count": 13,
   "metadata": {},
   "outputs": [],
   "source": [
    "df = preprocess(df)\n",
    "train, test = train_test_split(df, test_size=0.2)"
   ]
  },
  {
   "cell_type": "markdown",
   "metadata": {},
   "source": [
    "计算过慢，暂不运行。"
   ]
  },
  {
   "cell_type": "code",
   "execution_count": null,
   "metadata": {},
   "outputs": [],
   "source": [
    "dt = DecisionTree(train, algorithm='CART', max_depth=100)\n",
    "dt.predict(test)"
   ]
  },
  {
   "cell_type": "markdown",
   "metadata": {},
   "source": [
    "未剪枝的树："
   ]
  },
  {
   "cell_type": "code",
   "execution_count": null,
   "metadata": {},
   "outputs": [],
   "source": [
    "with open('unpruned_tree.txt') as f:\n",
    "    lines = f.readlines()\n",
    "    for line in lines:\n",
    "        print(line)"
   ]
  },
  {
   "cell_type": "markdown",
   "metadata": {},
   "source": [
    "剪枝后的树："
   ]
  },
  {
   "cell_type": "code",
   "execution_count": null,
   "metadata": {},
   "outputs": [],
   "source": [
    "with open('pruned_tree.txt') as f:\n",
    "    lines = f.readlines()\n",
    "    for line in lines:\n",
    "        print(line)"
   ]
  },
  {
   "cell_type": "markdown",
   "metadata": {},
   "source": [
    "#### C4.5\n",
    "\n",
    "默认进行剪枝。\n",
    "\n",
    "按照教材和Quinlan的原著写的程序。"
   ]
  },
  {
   "cell_type": "code",
   "execution_count": 15,
   "metadata": {},
   "outputs": [
    {
     "name": "stdout",
     "output_type": "stream",
     "text": [
      "The test accuracy is 51.62%\n"
     ]
    },
    {
     "data": {
      "text/plain": [
       "(0.5162252890712421,\n",
       " 2930    e\n",
       " 2492    e\n",
       " 99      e\n",
       " 3877    e\n",
       " 1732    e\n",
       "        ..\n",
       " 3635    e\n",
       " 2533    e\n",
       " 3443    e\n",
       " 2144    e\n",
       " 6802    e\n",
       " Name: prediction, Length: 2681, dtype: object)"
      ]
     },
     "execution_count": 15,
     "metadata": {},
     "output_type": "execute_result"
    }
   ],
   "source": [
    "train, test = train_test_split(df, test_size=0.33)\n",
    "dt = DecisionTree(train, algorithm='C4.5', prune_func='Pessim', max_depth=100)\n",
    "dt.predict(test)"
   ]
  },
  {
   "cell_type": "markdown",
   "metadata": {},
   "source": [
    "未剪枝的树："
   ]
  },
  {
   "cell_type": "code",
   "execution_count": 16,
   "metadata": {},
   "outputs": [
    {
     "name": "stdout",
     "output_type": "stream",
     "text": [
      "odor\n",
      "\n",
      "├── f->p\n",
      "\n",
      "├── n->gill_size\n",
      "\n",
      "│   ├── b->ring_number\n",
      "\n",
      "│   │   ├── o->e\n",
      "\n",
      "│   │   ╰── t->spore_print_color\n",
      "\n",
      "│   │       ├── w->e\n",
      "\n",
      "│   │       ╰── r->p\n",
      "\n",
      "│   ╰── n->stalk_surface_above_ring\n",
      "\n",
      "│       ├── s->bruises\n",
      "\n",
      "│       │   ├── f->e\n",
      "\n",
      "│       │   ╰── t->p\n",
      "\n",
      "│       ├── k->p\n",
      "\n",
      "│       ├── f->e\n",
      "\n",
      "│       ╰── y->p\n",
      "\n",
      "├── a->e\n",
      "\n",
      "├── c->p\n",
      "\n",
      "├── p->p\n",
      "\n",
      "├── y->p\n",
      "\n",
      "├── l->e\n",
      "\n",
      "├── s->p\n",
      "\n",
      "╰── m->p\n",
      "\n",
      "\n",
      "\n"
     ]
    }
   ],
   "source": [
    "with open('unpruned_tree.txt') as f:\n",
    "    lines = f.readlines()\n",
    "    for line in lines:\n",
    "        print(line)"
   ]
  },
  {
   "cell_type": "markdown",
   "metadata": {},
   "source": [
    "剪枝后的树："
   ]
  },
  {
   "cell_type": "code",
   "execution_count": 17,
   "metadata": {},
   "outputs": [
    {
     "name": "stdout",
     "output_type": "stream",
     "text": [
      "e\n",
      "\n"
     ]
    }
   ],
   "source": [
    "with open('pruned_tree.txt') as f:\n",
    "    lines = f.readlines()\n",
    "    for line in lines:\n",
    "        print(line)"
   ]
  },
  {
   "cell_type": "markdown",
   "metadata": {},
   "source": [
    "可以看到，按照pessimistic pruning，决策树会被直接剪成单结点。说明C4.5的剪枝算法太过悲观，应该少剪一些枝。"
   ]
  },
  {
   "cell_type": "markdown",
   "metadata": {},
   "source": [
    "### 比较剪枝算法\n",
    "\n",
    "C4.5剪枝算法采用的是pessimistic pruning，效果如上。下面尝试3种剪枝方法。\n",
    "\n",
    "1. Reduced Error Pruning，即根据验证集的准确率进行剪枝。\n",
    "2. 将cost-complexity pruning用在C4.5算法中，进行剪枝，$\\alpha = 0.1$。\n",
    "3. 将cost-complexity pruning的 $|T|$ 改成 $|T|^2$，进行剪枝，$\\alpha = 0.01$。"
   ]
  },
  {
   "cell_type": "markdown",
   "metadata": {},
   "source": [
    "#### Reduced Error Prune"
   ]
  },
  {
   "cell_type": "code",
   "execution_count": 18,
   "metadata": {},
   "outputs": [
    {
     "name": "stdout",
     "output_type": "stream",
     "text": [
      "The test accuracy is 73.14%\n"
     ]
    },
    {
     "data": {
      "text/plain": [
       "(0.7314434912346139,\n",
       " 2930    p\n",
       " 2492    p\n",
       " 99      e\n",
       " 3877    p\n",
       " 1732    e\n",
       "        ..\n",
       " 3635    p\n",
       " 2533    p\n",
       " 3443    p\n",
       " 2144    p\n",
       " 6802    p\n",
       " Name: prediction, Length: 2681, dtype: object)"
      ]
     },
     "execution_count": 18,
     "metadata": {},
     "output_type": "execute_result"
    }
   ],
   "source": [
    "dt = DecisionTree(train, algorithm='C4.5', prune_func='Reduce', max_depth=100)\n",
    "dt.predict(test)"
   ]
  },
  {
   "cell_type": "markdown",
   "metadata": {},
   "source": [
    "未剪枝的树："
   ]
  },
  {
   "cell_type": "code",
   "execution_count": 19,
   "metadata": {},
   "outputs": [
    {
     "name": "stdout",
     "output_type": "stream",
     "text": [
      "odor\n",
      "\n",
      "├── n->gill_size\n",
      "\n",
      "│   ├── b->ring_number\n",
      "\n",
      "│   │   ├── t->spore_print_color\n",
      "\n",
      "│   │   │   ├── w->e\n",
      "\n",
      "│   │   │   ╰── r->p\n",
      "\n",
      "│   │   ╰── o->e\n",
      "\n",
      "│   ╰── n->stalk_surface_above_ring\n",
      "\n",
      "│       ├── s->bruises\n",
      "\n",
      "│       │   ├── f->e\n",
      "\n",
      "│       │   ╰── t->p\n",
      "\n",
      "│       ├── k->p\n",
      "\n",
      "│       ├── f->e\n",
      "\n",
      "│       ╰── y->p\n",
      "\n",
      "├── y->p\n",
      "\n",
      "├── c->p\n",
      "\n",
      "├── f->p\n",
      "\n",
      "├── l->e\n",
      "\n",
      "├── s->p\n",
      "\n",
      "├── a->e\n",
      "\n",
      "├── p->p\n",
      "\n",
      "╰── m->p\n",
      "\n",
      "\n",
      "\n"
     ]
    }
   ],
   "source": [
    "with open('unpruned_tree.txt') as f:\n",
    "    lines = f.readlines()\n",
    "    for line in lines:\n",
    "        print(line)"
   ]
  },
  {
   "cell_type": "markdown",
   "metadata": {},
   "source": [
    "剪枝后的树："
   ]
  },
  {
   "cell_type": "code",
   "execution_count": 20,
   "metadata": {},
   "outputs": [
    {
     "name": "stdout",
     "output_type": "stream",
     "text": [
      "odor\n",
      "\n",
      "├── n->gill_size\n",
      "\n",
      "│   ├── b->ring_number\n",
      "\n",
      "│   │   ├── t->spore_print_color\n",
      "\n",
      "│   │   │   ├── w->e\n",
      "\n",
      "│   │   │   ╰── r->p\n",
      "\n",
      "│   │   ╰── o->e\n",
      "\n",
      "│   ╰── n->stalk_surface_above_ring\n",
      "\n",
      "│       ├── s->bruises\n",
      "\n",
      "│       │   ├── f->e\n",
      "\n",
      "│       │   ╰── t->p\n",
      "\n",
      "│       ├── k->p\n",
      "\n",
      "│       ├── f->e\n",
      "\n",
      "│       ╰── y->p\n",
      "\n",
      "├── y->p\n",
      "\n",
      "├── c->p\n",
      "\n",
      "├── f->p\n",
      "\n",
      "├── l->e\n",
      "\n",
      "├── s->p\n",
      "\n",
      "├── a->e\n",
      "\n",
      "├── p->p\n",
      "\n",
      "╰── m->p\n",
      "\n",
      "\n",
      "\n"
     ]
    }
   ],
   "source": [
    "with open('pruned_tree.txt') as f:\n",
    "    lines = f.readlines()\n",
    "    for line in lines:\n",
    "        print(line)"
   ]
  },
  {
   "cell_type": "markdown",
   "metadata": {},
   "source": [
    "#### Cost-complexity Prune"
   ]
  },
  {
   "cell_type": "code",
   "execution_count": 21,
   "metadata": {},
   "outputs": [
    {
     "name": "stdout",
     "output_type": "stream",
     "text": [
      "The test accuracy is 73.14%\n"
     ]
    },
    {
     "data": {
      "text/plain": [
       "(0.7314434912346139,\n",
       " 2930    p\n",
       " 2492    p\n",
       " 99      e\n",
       " 3877    p\n",
       " 1732    e\n",
       "        ..\n",
       " 3635    p\n",
       " 2533    p\n",
       " 3443    p\n",
       " 2144    p\n",
       " 6802    p\n",
       " Name: prediction, Length: 2681, dtype: object)"
      ]
     },
     "execution_count": 21,
     "metadata": {},
     "output_type": "execute_result"
    }
   ],
   "source": [
    "dt = DecisionTree(train, algorithm='C4.5', prune_func='Comp', max_depth=100)\n",
    "dt.predict(test)"
   ]
  },
  {
   "cell_type": "markdown",
   "metadata": {},
   "source": [
    "未剪枝的树："
   ]
  },
  {
   "cell_type": "code",
   "execution_count": 22,
   "metadata": {},
   "outputs": [
    {
     "name": "stdout",
     "output_type": "stream",
     "text": [
      "odor\n",
      "\n",
      "├── n->gill_size\n",
      "\n",
      "│   ├── b->ring_number\n",
      "\n",
      "│   │   ├── t->spore_print_color\n",
      "\n",
      "│   │   │   ├── w->e\n",
      "\n",
      "│   │   │   ╰── r->p\n",
      "\n",
      "│   │   ╰── o->e\n",
      "\n",
      "│   ╰── n->stalk_surface_above_ring\n",
      "\n",
      "│       ├── s->bruises\n",
      "\n",
      "│       │   ├── t->p\n",
      "\n",
      "│       │   ╰── f->e\n",
      "\n",
      "│       ├── k->p\n",
      "\n",
      "│       ├── f->e\n",
      "\n",
      "│       ╰── y->p\n",
      "\n",
      "├── p->p\n",
      "\n",
      "├── l->e\n",
      "\n",
      "├── c->p\n",
      "\n",
      "├── f->p\n",
      "\n",
      "├── y->p\n",
      "\n",
      "├── a->e\n",
      "\n",
      "├── s->p\n",
      "\n",
      "╰── m->p\n",
      "\n",
      "\n",
      "\n"
     ]
    }
   ],
   "source": [
    "with open('unpruned_tree.txt') as f:\n",
    "    lines = f.readlines()\n",
    "    for line in lines:\n",
    "        print(line)"
   ]
  },
  {
   "cell_type": "markdown",
   "metadata": {},
   "source": [
    "剪枝后的树："
   ]
  },
  {
   "cell_type": "code",
   "execution_count": 23,
   "metadata": {},
   "outputs": [
    {
     "name": "stdout",
     "output_type": "stream",
     "text": [
      "odor\n",
      "\n",
      "├── n->gill_size\n",
      "\n",
      "│   ├── b->ring_number\n",
      "\n",
      "│   │   ├── t->spore_print_color\n",
      "\n",
      "│   │   │   ├── w->e\n",
      "\n",
      "│   │   │   ╰── r->p\n",
      "\n",
      "│   │   ╰── o->e\n",
      "\n",
      "│   ╰── n->stalk_surface_above_ring\n",
      "\n",
      "│       ├── s->bruises\n",
      "\n",
      "│       │   ├── t->p\n",
      "\n",
      "│       │   ╰── f->e\n",
      "\n",
      "│       ├── k->p\n",
      "\n",
      "│       ├── f->e\n",
      "\n",
      "│       ╰── y->p\n",
      "\n",
      "├── p->p\n",
      "\n",
      "├── l->e\n",
      "\n",
      "├── c->p\n",
      "\n",
      "├── f->p\n",
      "\n",
      "├── y->p\n",
      "\n",
      "├── a->e\n",
      "\n",
      "├── s->p\n",
      "\n",
      "╰── m->p\n",
      "\n",
      "\n",
      "\n"
     ]
    }
   ],
   "source": [
    "with open('pruned_tree.txt') as f:\n",
    "    lines = f.readlines()\n",
    "    for line in lines:\n",
    "        print(line)"
   ]
  },
  {
   "cell_type": "markdown",
   "metadata": {},
   "source": [
    "#### Cost-complexity Squared Prune"
   ]
  },
  {
   "cell_type": "code",
   "execution_count": 24,
   "metadata": {},
   "outputs": [
    {
     "name": "stdout",
     "output_type": "stream",
     "text": [
      "The test accuracy is 74.90%\n"
     ]
    },
    {
     "data": {
      "text/plain": [
       "(0.7489742633345766,\n",
       " 2930    p\n",
       " 2492    p\n",
       " 99      e\n",
       " 3877    p\n",
       " 1732    e\n",
       "        ..\n",
       " 3635    p\n",
       " 2533    p\n",
       " 3443    p\n",
       " 2144    p\n",
       " 6802    p\n",
       " Name: prediction, Length: 2681, dtype: object)"
      ]
     },
     "execution_count": 24,
     "metadata": {},
     "output_type": "execute_result"
    }
   ],
   "source": [
    "dt = DecisionTree(train, algorithm='C4.5', prune_func='CompSqr', max_depth=100)\n",
    "dt.predict(test)"
   ]
  },
  {
   "cell_type": "markdown",
   "metadata": {},
   "source": [
    "未剪枝的树："
   ]
  },
  {
   "cell_type": "code",
   "execution_count": 25,
   "metadata": {},
   "outputs": [
    {
     "name": "stdout",
     "output_type": "stream",
     "text": [
      "odor\n",
      "\n",
      "├── n->gill_size\n",
      "\n",
      "│   ├── b->ring_number\n",
      "\n",
      "│   │   ├── o->e\n",
      "\n",
      "│   │   ╰── t->spore_print_color\n",
      "\n",
      "│   │       ├── w->e\n",
      "\n",
      "│   │       ╰── r->p\n",
      "\n",
      "│   ╰── n->stalk_surface_above_ring\n",
      "\n",
      "│       ├── k->p\n",
      "\n",
      "│       ├── s->bruises\n",
      "\n",
      "│       │   ├── f->e\n",
      "\n",
      "│       │   ╰── t->p\n",
      "\n",
      "│       ├── f->e\n",
      "\n",
      "│       ╰── y->p\n",
      "\n",
      "├── y->p\n",
      "\n",
      "├── a->e\n",
      "\n",
      "├── f->p\n",
      "\n",
      "├── l->e\n",
      "\n",
      "├── c->p\n",
      "\n",
      "├── s->p\n",
      "\n",
      "├── p->p\n",
      "\n",
      "╰── m->p\n",
      "\n",
      "\n",
      "\n"
     ]
    }
   ],
   "source": [
    "with open('unpruned_tree.txt') as f:\n",
    "    lines = f.readlines()\n",
    "    for line in lines:\n",
    "        print(line)"
   ]
  },
  {
   "cell_type": "markdown",
   "metadata": {},
   "source": [
    "剪枝后的树："
   ]
  },
  {
   "cell_type": "code",
   "execution_count": 26,
   "metadata": {},
   "outputs": [
    {
     "name": "stdout",
     "output_type": "stream",
     "text": [
      "odor\n",
      "\n",
      "├── n->gill_size\n",
      "\n",
      "│   ├── b->ring_number\n",
      "\n",
      "│   │   ├── o->e\n",
      "\n",
      "│   │   ╰── t->e\n",
      "\n",
      "│   ╰── n->stalk_surface_above_ring\n",
      "\n",
      "│       ├── k->p\n",
      "\n",
      "│       ├── s->bruises\n",
      "\n",
      "│       │   ├── f->e\n",
      "\n",
      "│       │   ╰── t->p\n",
      "\n",
      "│       ├── f->e\n",
      "\n",
      "│       ╰── y->p\n",
      "\n",
      "├── y->p\n",
      "\n",
      "├── a->e\n",
      "\n",
      "├── f->p\n",
      "\n",
      "├── l->e\n",
      "\n",
      "├── c->p\n",
      "\n",
      "├── s->p\n",
      "\n",
      "├── p->p\n",
      "\n",
      "╰── m->p\n",
      "\n",
      "\n",
      "\n"
     ]
    }
   ],
   "source": [
    "with open('pruned_tree.txt') as f:\n",
    "    lines = f.readlines()\n",
    "    for line in lines:\n",
    "        print(line)"
   ]
  },
  {
   "cell_type": "markdown",
   "metadata": {},
   "source": [
    "## 总结部分"
   ]
  },
  {
   "cell_type": "markdown",
   "metadata": {},
   "source": [
    "### 算法比较\n",
    "\n",
    "比较上述实验结果可知，Scikit-learn CART对超参数空间进行grid search能够得到最好的预测结果。说明生成正确的树，比剪枝更为重要。\n",
    "\n",
    "自己写的CART运行速度过慢，不具备实用性，且预测准确率也一般。若不调节超参数，经常为50%左右，所以比起对剪枝参数 $\\alpha$ 的选择，还是超参数选择更加重要。运行速度慢还有对Categorical Type的处理问题，因为没有工程经验，没有转化成dummy-code进行处理，盲目依照书本是不行的。\n",
    "\n",
    "按照Quinlan的书写的C4.5 with pessimistic pruning过于悲观，我尝试过几个数据集最后都只剩一个结点了，说明这种方法不太有用，现在也没什么人使用。"
   ]
  },
  {
   "cell_type": "markdown",
   "metadata": {},
   "source": [
    "### 剪枝方法比较"
   ]
  },
  {
   "cell_type": "markdown",
   "metadata": {},
   "source": [
    "排除掉C4.5本身十分悲观的pruning方法后，多次尝试的3种剪枝方法：\n",
    "\n",
    "1. Reduced Error Pruning，即根据验证集的准确率进行剪枝。\n",
    "2. 将cost-complexity pruning用在C4.5算法中，进行剪枝，$\\alpha = 0.1$。\n",
    "3. 将cost-complexity pruning的 $|T|$ 改成 $|T|^2$，进行剪枝，$\\alpha = 0.01$。\n",
    "\n",
    "得到的结果为3优于2优于1。差异不显著，且每个剪枝算法内部都有一些可调的参数：1中可以调节验证集的比例，这里取20%较好；2、3中可以调节 $\\alpha$ 的值。总体看来，算法的选择还是高度依赖于问题本身的，这也就是为什么生成树使用的超参数对预测效果极为关键吧。"
   ]
  }
 ],
 "metadata": {
  "kernelspec": {
   "display_name": "Python [conda env:happy]",
   "language": "python",
   "name": "conda-env-happy-py"
  },
  "language_info": {
   "codemirror_mode": {
    "name": "ipython",
    "version": 3
   },
   "file_extension": ".py",
   "mimetype": "text/x-python",
   "name": "python",
   "nbconvert_exporter": "python",
   "pygments_lexer": "ipython3",
   "version": "3.8.1"
  }
 },
 "nbformat": 4,
 "nbformat_minor": 4
}
