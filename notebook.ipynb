{
 "cells": [
  {
   "cell_type": "markdown",
   "metadata": {},
   "source": [
    "# Decision Tree Classification Algorithms"
   ]
  },
  {
   "cell_type": "markdown",
   "metadata": {},
   "source": [
    "## Compare C4.5 and CART on 3 data sets\n",
    "\n",
    "The 3 data sets are:\n",
    "+ [Balance Scale Data Set](http://archive.ics.uci.edu/ml/datasets/balance+scale): ordered categorical attributes\n",
    "+ [Mushroom Data Set](https://archive.ics.uci.edu/ml/datasets/Mushroom): unordered categorical attributes\n",
    "+ [User Knowledge Modeling Data Set](https://archive.ics.uci.edu/ml/datasets/User+Knowledge+Modeling): continuous attributes\n",
    "\n",
    "In data preprocessing, if the distinct number of numeric values of an attribute is less than 10, it is converted to a categorical attribute.\n",
    "\n",
    "For the convinience of programming, all categorical attributes are converted to ordered [pandas.Categorical](https://pandas.pydata.org/pandas-docs/stable/reference/api/pandas.Categorical.html#pandas.Categorical)."
   ]
  },
  {
   "cell_type": "markdown",
   "metadata": {},
   "source": [
    "## Customized C4.5 Pruning"
   ]
  },
  {
   "cell_type": "markdown",
   "metadata": {},
   "source": [
    "References:\n",
    "\n",
    "+ J. Ross Quinlan - C4.5: Programs for Machine Learning\n",
    "+ CART\n",
    "+ [Scikit-learn: Minimal Cost-Complexity Pruning](https://scikit-learn.org/stable/modules/tree.html#minimal-cost-complexity-pruning)"
   ]
  },
  {
   "cell_type": "code",
   "execution_count": null,
   "metadata": {},
   "outputs": [],
   "source": []
  }
 ],
 "metadata": {
  "kernelspec": {
   "display_name": "Python [conda env:happy]",
   "language": "python",
   "name": "conda-env-happy-py"
  },
  "language_info": {
   "codemirror_mode": {
    "name": "ipython",
    "version": 3
   },
   "file_extension": ".py",
   "mimetype": "text/x-python",
   "name": "python",
   "nbconvert_exporter": "python",
   "pygments_lexer": "ipython3",
   "version": "3.8.1"
  }
 },
 "nbformat": 4,
 "nbformat_minor": 4
}
